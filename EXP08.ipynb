{
 "cells": [
  {
   "cell_type": "code",
   "execution_count": 1,
   "metadata": {},
   "outputs": [],
   "source": [
    "import os\n",
    "os.environ['CUDA_VISIBLE_DEVICES'] = '0'\n",
    "os.environ['CUDA_DEVICE_ORDER']='PCI_BUS_ID'"
   ]
  },
  {
   "cell_type": "code",
   "execution_count": 2,
   "metadata": {},
   "outputs": [],
   "source": [
    "from utils import *"
   ]
  },
  {
   "cell_type": "code",
   "execution_count": 3,
   "metadata": {},
   "outputs": [],
   "source": [
    "%load_ext autoreload\n",
    "%autoreload 2\n",
    "\n",
    "%matplotlib inline\n",
    "\n",
    "# make plots a bit nicer\n",
    "plt.matplotlib.rcParams.update({'font.size': 18, 'font.family': 'serif'})\n",
    "\n",
    "# path for dataset (will be not there after end of session)\n",
    "path_data = \"./data\"\n",
    "path_logs = \"./logs\""
   ]
  },
  {
   "cell_type": "code",
   "execution_count": 4,
   "metadata": {},
   "outputs": [],
   "source": [
    "classes = ('plane', 'car', 'bird', 'cat',\n",
    "           'deer', 'dog', 'frog', 'horse', 'ship', 'truck')"
   ]
  },
  {
   "cell_type": "markdown",
   "metadata": {},
   "source": [
    "### Dataloaders"
   ]
  },
  {
   "cell_type": "code",
   "execution_count": 5,
   "metadata": {},
   "outputs": [
    {
     "name": "stdout",
     "output_type": "stream",
     "text": [
      "Files already downloaded and verified\n",
      "Files already downloaded and verified\n",
      "Files already downloaded and verified\n"
     ]
    }
   ],
   "source": [
    "BATCH_SIZE = 32\n",
    "augment = False\n",
    "random_seed = 1\n",
    "\n",
    "train_loader, valid_loader = get_train_valid_loader(path_data,\n",
    "                           BATCH_SIZE,\n",
    "                           augment,\n",
    "                           random_seed,\n",
    "                           valid_size=0.1,\n",
    "                           shuffle=True,\n",
    "                           show_sample=False,\n",
    "                           num_workers=1,\n",
    "                           pin_memory=True)\n",
    "\n",
    "dataloaders = {\"train\": train_loader, \n",
    "               \"val\": valid_loader}\n",
    "\n",
    "test_loader = get_test_loader(path_data,\n",
    "                    BATCH_SIZE,\n",
    "                    shuffle=True,\n",
    "                    num_workers=1,\n",
    "                    pin_memory=True)"
   ]
  },
  {
   "cell_type": "markdown",
   "metadata": {},
   "source": [
    "### VGG-16"
   ]
  },
  {
   "cell_type": "code",
   "execution_count": 6,
   "metadata": {},
   "outputs": [],
   "source": [
    "model = models.vgg16(pretrained=False)\n",
    "model.classifier = nn.Linear(25088, 10)"
   ]
  },
  {
   "cell_type": "code",
   "execution_count": 7,
   "metadata": {},
   "outputs": [],
   "source": [
    "device = torch.device(\"cuda:0\" if torch.cuda.is_available() else \"cpu\")\n",
    "if torch.cuda.is_available():\n",
    "    model.cuda()"
   ]
  },
  {
   "cell_type": "code",
   "execution_count": 8,
   "metadata": {},
   "outputs": [],
   "source": [
    "criterion = nn.CrossEntropyLoss()\n",
    "optimizer = torch.optim.SGD(model.parameters(), lr=0.001, momentum=0.9)"
   ]
  },
  {
   "cell_type": "code",
   "execution_count": 9,
   "metadata": {
    "scrolled": false
   },
   "outputs": [
    {
     "name": "stdout",
     "output_type": "stream",
     "text": [
      "Epoch 0/24 \tTrain loss: 1.8948 acc: 0.2819 \t\t Val loss: 1.5383 acc: 0.4168\n",
      "Epoch 1/24 \tTrain loss: 1.3446 acc: 0.5064 \t\t Val loss: 1.2530 acc: 0.5402\n",
      "Epoch 2/24 \tTrain loss: 1.0770 acc: 0.6128 \t\t Val loss: 0.9874 acc: 0.6526\n",
      "Epoch 3/24 \tTrain loss: 0.8794 acc: 0.6871 \t\t Val loss: 0.8559 acc: 0.6972\n",
      "Epoch 4/24 \tTrain loss: 0.7423 acc: 0.7383 \t\t Val loss: 0.7711 acc: 0.7238\n",
      "Epoch 5/24 \tTrain loss: 0.6262 acc: 0.7764 \t\t Val loss: 0.7319 acc: 0.7406\n",
      "Epoch 6/24 \tTrain loss: 0.5244 acc: 0.8168 \t\t Val loss: 0.7297 acc: 0.7540\n",
      "Epoch 7/24 \tTrain loss: 0.4321 acc: 0.8496 \t\t Val loss: 0.7551 acc: 0.7454\n",
      "Epoch 8/24 \tTrain loss: 0.3551 acc: 0.8741 \t\t Val loss: 0.7445 acc: 0.7664\n",
      "Epoch 9/24 \tTrain loss: 0.2853 acc: 0.8992 \t\t Val loss: 0.7482 acc: 0.7692\n",
      "Epoch 10/24 \tTrain loss: 0.2253 acc: 0.9206 \t\t Val loss: 0.9279 acc: 0.7454\n",
      "Epoch 11/24 \tTrain loss: 0.1815 acc: 0.9361 \t\t Val loss: 0.8143 acc: 0.7742\n",
      "Epoch 12/24 \tTrain loss: 0.1399 acc: 0.9508 \t\t Val loss: 0.8813 acc: 0.7784\n",
      "Epoch 13/24 \tTrain loss: 0.1297 acc: 0.9543 \t\t Val loss: 0.9416 acc: 0.7790\n",
      "Epoch 14/24 \tTrain loss: 0.1014 acc: 0.9641 \t\t Val loss: 0.9164 acc: 0.7816\n",
      "Epoch 15/24 \tTrain loss: 0.0831 acc: 0.9705 \t\t Val loss: 1.1097 acc: 0.7728\n",
      "Epoch 16/24 \tTrain loss: 0.0670 acc: 0.9769 \t\t Val loss: 1.0326 acc: 0.7782\n",
      "Epoch 17/24 \tTrain loss: 0.0666 acc: 0.9770 \t\t Val loss: 1.0604 acc: 0.7826\n",
      "Epoch 18/24 \tTrain loss: 0.0560 acc: 0.9806 \t\t Val loss: 1.0365 acc: 0.7806\n",
      "Epoch 19/24 \tTrain loss: 0.0475 acc: 0.9836 \t\t Val loss: 1.0931 acc: 0.7820\n",
      "Epoch 20/24 \tTrain loss: 0.0427 acc: 0.9850 \t\t Val loss: 1.2042 acc: 0.7792\n",
      "Epoch 21/24 \tTrain loss: 0.0456 acc: 0.9839 \t\t Val loss: 1.0878 acc: 0.7858\n",
      "Epoch 22/24 \tTrain loss: 0.0367 acc: 0.9867 \t\t Val loss: 1.0959 acc: 0.7888\n",
      "Epoch 23/24 \tTrain loss: 0.0337 acc: 0.9880 \t\t Val loss: 1.1908 acc: 0.7778\n",
      "Epoch 24/24 \tTrain loss: 0.0303 acc: 0.9899 \t\t Val loss: 1.2386 acc: 0.7764\n",
      "Training complete in 11m 57s\n",
      "Best val Acc: 0.788800\n",
      "Best epoch: 22\n"
     ]
    }
   ],
   "source": [
    "best_model, val_acc_history, plot_df = train_model(model, dataloaders, criterion, optimizer, device, num_epochs=25)"
   ]
  },
  {
   "cell_type": "code",
   "execution_count": 10,
   "metadata": {},
   "outputs": [
    {
     "data": {
      "text/html": [
       "<div>\n",
       "<style scoped>\n",
       "    .dataframe tbody tr th:only-of-type {\n",
       "        vertical-align: middle;\n",
       "    }\n",
       "\n",
       "    .dataframe tbody tr th {\n",
       "        vertical-align: top;\n",
       "    }\n",
       "\n",
       "    .dataframe thead th {\n",
       "        text-align: right;\n",
       "    }\n",
       "</style>\n",
       "<table border=\"1\" class=\"dataframe\">\n",
       "  <thead>\n",
       "    <tr style=\"text-align: right;\">\n",
       "      <th></th>\n",
       "      <th>epoch</th>\n",
       "      <th>train_loss</th>\n",
       "      <th>train_acc</th>\n",
       "      <th>val_loss</th>\n",
       "      <th>val_acc</th>\n",
       "    </tr>\n",
       "  </thead>\n",
       "  <tbody>\n",
       "    <tr>\n",
       "      <th>0</th>\n",
       "      <td>0</td>\n",
       "      <td>1.894846</td>\n",
       "      <td>0.281911</td>\n",
       "      <td>1.538253</td>\n",
       "      <td>0.4168</td>\n",
       "    </tr>\n",
       "    <tr>\n",
       "      <th>1</th>\n",
       "      <td>1</td>\n",
       "      <td>1.344615</td>\n",
       "      <td>0.506356</td>\n",
       "      <td>1.253017</td>\n",
       "      <td>0.5402</td>\n",
       "    </tr>\n",
       "    <tr>\n",
       "      <th>2</th>\n",
       "      <td>2</td>\n",
       "      <td>1.077023</td>\n",
       "      <td>0.612844</td>\n",
       "      <td>0.987416</td>\n",
       "      <td>0.6526</td>\n",
       "    </tr>\n",
       "    <tr>\n",
       "      <th>22</th>\n",
       "      <td>22</td>\n",
       "      <td>0.036666</td>\n",
       "      <td>0.986733</td>\n",
       "      <td>1.095898</td>\n",
       "      <td>0.7888</td>\n",
       "    </tr>\n",
       "    <tr>\n",
       "      <th>23</th>\n",
       "      <td>23</td>\n",
       "      <td>0.033735</td>\n",
       "      <td>0.987978</td>\n",
       "      <td>1.190778</td>\n",
       "      <td>0.7778</td>\n",
       "    </tr>\n",
       "    <tr>\n",
       "      <th>24</th>\n",
       "      <td>24</td>\n",
       "      <td>0.030270</td>\n",
       "      <td>0.989911</td>\n",
       "      <td>1.238559</td>\n",
       "      <td>0.7764</td>\n",
       "    </tr>\n",
       "  </tbody>\n",
       "</table>\n",
       "</div>"
      ],
      "text/plain": [
       "    epoch  train_loss  train_acc  val_loss  val_acc\n",
       "0       0    1.894846   0.281911  1.538253   0.4168\n",
       "1       1    1.344615   0.506356  1.253017   0.5402\n",
       "2       2    1.077023   0.612844  0.987416   0.6526\n",
       "22     22    0.036666   0.986733  1.095898   0.7888\n",
       "23     23    0.033735   0.987978  1.190778   0.7778\n",
       "24     24    0.030270   0.989911  1.238559   0.7764"
      ]
     },
     "execution_count": 10,
     "metadata": {},
     "output_type": "execute_result"
    }
   ],
   "source": [
    "val_acc_history.head(3).append(val_acc_history.tail(3))"
   ]
  },
  {
   "cell_type": "code",
   "execution_count": 11,
   "metadata": {},
   "outputs": [],
   "source": [
    "val_acc_history.to_csv(path_logs+\"/EXP08.csv\", index=None)"
   ]
  },
  {
   "cell_type": "code",
   "execution_count": 12,
   "metadata": {},
   "outputs": [
    {
     "data": {
      "image/png": "[encoded data removed]",
      "text/plain": [
       "<Figure size 432x288 with 1 Axes>"
      ]
     },
     "metadata": {
      "needs_background": "light"
     },
     "output_type": "display_data"
    }
   ],
   "source": [
    "s = sns.lineplot(x='epoch', y='loss', data=plot_df, hue='phase')"
   ]
  },
  {
   "cell_type": "code",
   "execution_count": 13,
   "metadata": {},
   "outputs": [
    {
     "data": {
      "image/png": "[encoded data removed]",
      "text/plain": [
       "<Figure size 432x288 with 1 Axes>"
      ]
     },
     "metadata": {
      "needs_background": "light"
     },
     "output_type": "display_data"
    }
   ],
   "source": [
    "s = sns.lineplot(x='epoch', y='accuracy', data=plot_df, hue='phase')"
   ]
  },
  {
   "cell_type": "code",
   "execution_count": 14,
   "metadata": {},
   "outputs": [
    {
     "data": {
      "text/plain": [
       "VGG(\n",
       "  (features): Sequential(\n",
       "    (0): Conv2d(3, 64, kernel_size=(3, 3), stride=(1, 1), padding=(1, 1))\n",
       "    (1): ReLU(inplace=True)\n",
       "    (2): Conv2d(64, 64, kernel_size=(3, 3), stride=(1, 1), padding=(1, 1))\n",
       "    (3): ReLU(inplace=True)\n",
       "    (4): MaxPool2d(kernel_size=2, stride=2, padding=0, dilation=1, ceil_mode=False)\n",
       "    (5): Conv2d(64, 128, kernel_size=(3, 3), stride=(1, 1), padding=(1, 1))\n",
       "    (6): ReLU(inplace=True)\n",
       "    (7): Conv2d(128, 128, kernel_size=(3, 3), stride=(1, 1), padding=(1, 1))\n",
       "    (8): ReLU(inplace=True)\n",
       "    (9): MaxPool2d(kernel_size=2, stride=2, padding=0, dilation=1, ceil_mode=False)\n",
       "    (10): Conv2d(128, 256, kernel_size=(3, 3), stride=(1, 1), padding=(1, 1))\n",
       "    (11): ReLU(inplace=True)\n",
       "    (12): Conv2d(256, 256, kernel_size=(3, 3), stride=(1, 1), padding=(1, 1))\n",
       "    (13): ReLU(inplace=True)\n",
       "    (14): Conv2d(256, 256, kernel_size=(3, 3), stride=(1, 1), padding=(1, 1))\n",
       "    (15): ReLU(inplace=True)\n",
       "    (16): MaxPool2d(kernel_size=2, stride=2, padding=0, dilation=1, ceil_mode=False)\n",
       "    (17): Conv2d(256, 512, kernel_size=(3, 3), stride=(1, 1), padding=(1, 1))\n",
       "    (18): ReLU(inplace=True)\n",
       "    (19): Conv2d(512, 512, kernel_size=(3, 3), stride=(1, 1), padding=(1, 1))\n",
       "    (20): ReLU(inplace=True)\n",
       "    (21): Conv2d(512, 512, kernel_size=(3, 3), stride=(1, 1), padding=(1, 1))\n",
       "    (22): ReLU(inplace=True)\n",
       "    (23): MaxPool2d(kernel_size=2, stride=2, padding=0, dilation=1, ceil_mode=False)\n",
       "    (24): Conv2d(512, 512, kernel_size=(3, 3), stride=(1, 1), padding=(1, 1))\n",
       "    (25): ReLU(inplace=True)\n",
       "    (26): Conv2d(512, 512, kernel_size=(3, 3), stride=(1, 1), padding=(1, 1))\n",
       "    (27): ReLU(inplace=True)\n",
       "    (28): Conv2d(512, 512, kernel_size=(3, 3), stride=(1, 1), padding=(1, 1))\n",
       "    (29): ReLU(inplace=True)\n",
       "    (30): MaxPool2d(kernel_size=2, stride=2, padding=0, dilation=1, ceil_mode=False)\n",
       "  )\n",
       "  (avgpool): AdaptiveAvgPool2d(output_size=(7, 7))\n",
       "  (classifier): Linear(in_features=25088, out_features=10, bias=True)\n",
       ")"
      ]
     },
     "execution_count": 14,
     "metadata": {},
     "output_type": "execute_result"
    }
   ],
   "source": [
    "model.eval()"
   ]
  },
  {
   "cell_type": "code",
   "execution_count": 15,
   "metadata": {},
   "outputs": [
    {
     "name": "stdout",
     "output_type": "stream",
     "text": [
      "Accuracy of the network on the 10000 test images: 78.59 %\n"
     ]
    },
    {
     "data": {
      "image/png": "[encoded data removed]",
      "text/plain": [
       "<Figure size 914.4x379.44 with 1 Axes>"
      ]
     },
     "metadata": {},
     "output_type": "display_data"
    }
   ],
   "source": [
    "correct = 0\n",
    "total = 0\n",
    "with torch.no_grad():\n",
    "    for data in test_loader:\n",
    "        images, labels = data\n",
    "        outputs = best_model(images.to('cuda'))\n",
    "        _, predicted = torch.max(outputs.data, 1)\n",
    "        total += labels.size(0)\n",
    "        correct += (predicted.to('cuda') == labels.to('cuda')).sum().item()\n",
    "\n",
    "print('Accuracy of the network on the 10000 test images: {} %'.format(100 * correct / total))\n",
    "\n",
    "class_correct = list(0. for i in range(10))\n",
    "class_total = list(0. for i in range(10))\n",
    "with torch.no_grad():\n",
    "    for data in test_loader:\n",
    "        images, labels = data\n",
    "        outputs = best_model(images.to('cuda'))\n",
    "        _, predicted = torch.max(outputs, 1)\n",
    "        c = (predicted.to('cuda') == labels.to('cuda')).squeeze()\n",
    "        for i in range(4):\n",
    "            label = labels[i]\n",
    "            class_correct[label] += c[i].item()\n",
    "            class_total[label] += 1\n",
    "            \n",
    "acc_res_num = 100*np.array(class_correct) / np.array(class_total)\n",
    "acc_res_df = pd.DataFrame({\"class\": classes, \"Accuracy, %\": acc_res_num})\n",
    "sns.set(rc={'figure.figsize':(12.7,5.27)})\n",
    "s = sns.barplot(x='class', y='Accuracy, %', data=acc_res_df)"
   ]
  },
  {
   "cell_type": "code",
   "execution_count": 16,
   "metadata": {},
   "outputs": [
    {
     "data": {
      "text/html": [
       "<div>\n",
       "<style scoped>\n",
       "    .dataframe tbody tr th:only-of-type {\n",
       "        vertical-align: middle;\n",
       "    }\n",
       "\n",
       "    .dataframe tbody tr th {\n",
       "        vertical-align: top;\n",
       "    }\n",
       "\n",
       "    .dataframe thead th {\n",
       "        text-align: right;\n",
       "    }\n",
       "</style>\n",
       "<table border=\"1\" class=\"dataframe\">\n",
       "  <thead>\n",
       "    <tr style=\"text-align: right;\">\n",
       "      <th></th>\n",
       "      <th>class</th>\n",
       "      <th>Accuracy, %</th>\n",
       "    </tr>\n",
       "  </thead>\n",
       "  <tbody>\n",
       "    <tr>\n",
       "      <th>0</th>\n",
       "      <td>plane</td>\n",
       "      <td>87.79%</td>\n",
       "    </tr>\n",
       "    <tr>\n",
       "      <th>1</th>\n",
       "      <td>car</td>\n",
       "      <td>94.53%</td>\n",
       "    </tr>\n",
       "    <tr>\n",
       "      <th>2</th>\n",
       "      <td>bird</td>\n",
       "      <td>60.0%</td>\n",
       "    </tr>\n",
       "    <tr>\n",
       "      <th>3</th>\n",
       "      <td>cat</td>\n",
       "      <td>58.99%</td>\n",
       "    </tr>\n",
       "    <tr>\n",
       "      <th>4</th>\n",
       "      <td>deer</td>\n",
       "      <td>76.7%</td>\n",
       "    </tr>\n",
       "    <tr>\n",
       "      <th>5</th>\n",
       "      <td>dog</td>\n",
       "      <td>82.26%</td>\n",
       "    </tr>\n",
       "    <tr>\n",
       "      <th>6</th>\n",
       "      <td>frog</td>\n",
       "      <td>84.56%</td>\n",
       "    </tr>\n",
       "    <tr>\n",
       "      <th>7</th>\n",
       "      <td>horse</td>\n",
       "      <td>76.92%</td>\n",
       "    </tr>\n",
       "    <tr>\n",
       "      <th>8</th>\n",
       "      <td>ship</td>\n",
       "      <td>87.29%</td>\n",
       "    </tr>\n",
       "    <tr>\n",
       "      <th>9</th>\n",
       "      <td>truck</td>\n",
       "      <td>85.83%</td>\n",
       "    </tr>\n",
       "  </tbody>\n",
       "</table>\n",
       "</div>"
      ],
      "text/plain": [
       "   class Accuracy, %\n",
       "0  plane      87.79%\n",
       "1    car      94.53%\n",
       "2   bird       60.0%\n",
       "3    cat      58.99%\n",
       "4   deer       76.7%\n",
       "5    dog      82.26%\n",
       "6   frog      84.56%\n",
       "7  horse      76.92%\n",
       "8   ship      87.29%\n",
       "9  truck      85.83%"
      ]
     },
     "execution_count": 16,
     "metadata": {},
     "output_type": "execute_result"
    }
   ],
   "source": [
    "acc_res = [str(round(v, 2))+\"%\" for v in acc_res_num]\n",
    "acc_res_df_per = pd.DataFrame({\"class\": classes, \"Accuracy, %\": acc_res})\n",
    "acc_res_df_per"
   ]
  }
 ],
 "metadata": {
  "kernelspec": {
   "display_name": "Python 3",
   "language": "python",
   "name": "python3"
  },
  "language_info": {
   "codemirror_mode": {
    "name": "ipython",
    "version": 3
   },
   "file_extension": ".py",
   "mimetype": "text/x-python",
   "name": "python",
   "nbconvert_exporter": "python",
   "pygments_lexer": "ipython3",
   "version": "3.6.11"
  }
 },
 "nbformat": 4,
 "nbformat_minor": 2
}
