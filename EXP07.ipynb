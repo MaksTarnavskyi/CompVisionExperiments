{
 "cells": [
  {
   "cell_type": "code",
   "execution_count": 1,
   "metadata": {},
   "outputs": [],
   "source": [
    "import os\n",
    "os.environ['CUDA_VISIBLE_DEVICES'] = '0'\n",
    "os.environ['CUDA_DEVICE_ORDER']='PCI_BUS_ID'"
   ]
  },
  {
   "cell_type": "code",
   "execution_count": 2,
   "metadata": {},
   "outputs": [],
   "source": [
    "from utils import *"
   ]
  },
  {
   "cell_type": "code",
   "execution_count": 3,
   "metadata": {},
   "outputs": [],
   "source": [
    "%load_ext autoreload\n",
    "%autoreload 2\n",
    "\n",
    "%matplotlib inline\n",
    "\n",
    "# make plots a bit nicer\n",
    "plt.matplotlib.rcParams.update({'font.size': 18, 'font.family': 'serif'})\n",
    "\n",
    "# path for dataset (will be not there after end of session)\n",
    "path_data = \"./data\"\n",
    "path_logs = \"./logs\""
   ]
  },
  {
   "cell_type": "code",
   "execution_count": 4,
   "metadata": {},
   "outputs": [],
   "source": [
    "classes = ('plane', 'car', 'bird', 'cat',\n",
    "           'deer', 'dog', 'frog', 'horse', 'ship', 'truck')"
   ]
  },
  {
   "cell_type": "markdown",
   "metadata": {},
   "source": [
    "### Dataloaders"
   ]
  },
  {
   "cell_type": "code",
   "execution_count": 5,
   "metadata": {},
   "outputs": [
    {
     "name": "stdout",
     "output_type": "stream",
     "text": [
      "Files already downloaded and verified\n",
      "Files already downloaded and verified\n",
      "Files already downloaded and verified\n"
     ]
    }
   ],
   "source": [
    "BATCH_SIZE = 32\n",
    "augment = False\n",
    "random_seed = 1\n",
    "\n",
    "train_loader, valid_loader = get_train_valid_loader(path_data,\n",
    "                           BATCH_SIZE,\n",
    "                           augment,\n",
    "                           random_seed,\n",
    "                           valid_size=0.1,\n",
    "                           shuffle=True,\n",
    "                           show_sample=False,\n",
    "                           num_workers=1,\n",
    "                           pin_memory=True)\n",
    "\n",
    "dataloaders = {\"train\": train_loader, \n",
    "               \"val\": valid_loader}\n",
    "\n",
    "test_loader = get_test_loader(path_data,\n",
    "                    BATCH_SIZE,\n",
    "                    shuffle=True,\n",
    "                    num_workers=1,\n",
    "                    pin_memory=True)"
   ]
  },
  {
   "cell_type": "markdown",
   "metadata": {},
   "source": [
    "### VGG-16"
   ]
  },
  {
   "cell_type": "code",
   "execution_count": 20,
   "metadata": {},
   "outputs": [],
   "source": [
    "model = models.vgg16(pretrained=True)\n",
    "model.classifier = nn.Linear(25088, 10)"
   ]
  },
  {
   "cell_type": "code",
   "execution_count": 21,
   "metadata": {},
   "outputs": [],
   "source": [
    "device = torch.device(\"cuda:0\" if torch.cuda.is_available() else \"cpu\")\n",
    "if torch.cuda.is_available():\n",
    "    model.cuda()"
   ]
  },
  {
   "cell_type": "code",
   "execution_count": 22,
   "metadata": {},
   "outputs": [],
   "source": [
    "criterion = nn.CrossEntropyLoss()\n",
    "optimizer = torch.optim.SGD(model.parameters(), lr=0.001, momentum=0.9)"
   ]
  },
  {
   "cell_type": "code",
   "execution_count": 23,
   "metadata": {
    "scrolled": false
   },
   "outputs": [
    {
     "name": "stdout",
     "output_type": "stream",
     "text": [
      "Epoch 0/24 \tTrain loss: 0.6537 acc: 0.7758 \t\t Val loss: 0.4517 acc: 0.8420\n",
      "Epoch 1/24 \tTrain loss: 0.3482 acc: 0.8802 \t\t Val loss: 0.3982 acc: 0.8640\n",
      "Epoch 2/24 \tTrain loss: 0.2190 acc: 0.9240 \t\t Val loss: 0.3835 acc: 0.8764\n",
      "Epoch 3/24 \tTrain loss: 0.1365 acc: 0.9525 \t\t Val loss: 0.4345 acc: 0.8684\n",
      "Epoch 4/24 \tTrain loss: 0.0858 acc: 0.9702 \t\t Val loss: 0.4454 acc: 0.8740\n",
      "Epoch 5/24 \tTrain loss: 0.0589 acc: 0.9800 \t\t Val loss: 0.4853 acc: 0.8798\n",
      "Epoch 6/24 \tTrain loss: 0.0356 acc: 0.9880 \t\t Val loss: 0.5317 acc: 0.8806\n",
      "Epoch 7/24 \tTrain loss: 0.0360 acc: 0.9873 \t\t Val loss: 0.5827 acc: 0.8776\n",
      "Epoch 8/24 \tTrain loss: 0.0258 acc: 0.9910 \t\t Val loss: 0.5938 acc: 0.8832\n",
      "Epoch 9/24 \tTrain loss: 0.0248 acc: 0.9918 \t\t Val loss: 0.5524 acc: 0.8872\n",
      "Epoch 10/24 \tTrain loss: 0.0189 acc: 0.9940 \t\t Val loss: 0.5424 acc: 0.8928\n",
      "Epoch 11/24 \tTrain loss: 0.0186 acc: 0.9935 \t\t Val loss: 0.6278 acc: 0.8812\n",
      "Epoch 12/24 \tTrain loss: 0.0170 acc: 0.9947 \t\t Val loss: 0.6265 acc: 0.8840\n",
      "Epoch 13/24 \tTrain loss: 0.0034 acc: 0.9991 \t\t Val loss: 0.6277 acc: 0.8984\n",
      "Epoch 14/24 \tTrain loss: 0.0080 acc: 0.9973 \t\t Val loss: 0.6952 acc: 0.8844\n",
      "Epoch 15/24 \tTrain loss: 0.0193 acc: 0.9934 \t\t Val loss: 0.6036 acc: 0.8906\n",
      "Epoch 16/24 \tTrain loss: 0.0132 acc: 0.9956 \t\t Val loss: 0.6081 acc: 0.8936\n",
      "Epoch 17/24 \tTrain loss: 0.0045 acc: 0.9984 \t\t Val loss: 0.7266 acc: 0.8878\n",
      "Epoch 18/24 \tTrain loss: 0.0009 acc: 0.9998 \t\t Val loss: 0.6835 acc: 0.9006\n",
      "Epoch 19/24 \tTrain loss: 0.0001 acc: 1.0000 \t\t Val loss: 0.7008 acc: 0.9028\n",
      "Epoch 20/24 \tTrain loss: 0.0000 acc: 1.0000 \t\t Val loss: 0.7115 acc: 0.9026\n",
      "Epoch 21/24 \tTrain loss: 0.0000 acc: 1.0000 \t\t Val loss: 0.7219 acc: 0.9028\n",
      "Epoch 22/24 \tTrain loss: 0.0000 acc: 1.0000 \t\t Val loss: 0.7311 acc: 0.9026\n",
      "Epoch 23/24 \tTrain loss: 0.0000 acc: 1.0000 \t\t Val loss: 0.7392 acc: 0.9036\n",
      "Epoch 24/24 \tTrain loss: 0.0000 acc: 1.0000 \t\t Val loss: 0.7460 acc: 0.9036\n",
      "Training complete in 11m 57s\n",
      "Best val Acc: 0.903600\n",
      "Best epoch: 23\n"
     ]
    }
   ],
   "source": [
    "best_model, val_acc_history, plot_df = train_model(model, dataloaders, criterion, optimizer, device, num_epochs=25)"
   ]
  },
  {
   "cell_type": "code",
   "execution_count": 24,
   "metadata": {},
   "outputs": [
    {
     "data": {
      "text/html": [
       "<div>\n",
       "<style scoped>\n",
       "    .dataframe tbody tr th:only-of-type {\n",
       "        vertical-align: middle;\n",
       "    }\n",
       "\n",
       "    .dataframe tbody tr th {\n",
       "        vertical-align: top;\n",
       "    }\n",
       "\n",
       "    .dataframe thead th {\n",
       "        text-align: right;\n",
       "    }\n",
       "</style>\n",
       "<table border=\"1\" class=\"dataframe\">\n",
       "  <thead>\n",
       "    <tr style=\"text-align: right;\">\n",
       "      <th></th>\n",
       "      <th>epoch</th>\n",
       "      <th>train_loss</th>\n",
       "      <th>train_acc</th>\n",
       "      <th>val_loss</th>\n",
       "      <th>val_acc</th>\n",
       "    </tr>\n",
       "  </thead>\n",
       "  <tbody>\n",
       "    <tr>\n",
       "      <th>0</th>\n",
       "      <td>0</td>\n",
       "      <td>0.653737</td>\n",
       "      <td>0.775778</td>\n",
       "      <td>0.451712</td>\n",
       "      <td>0.8420</td>\n",
       "    </tr>\n",
       "    <tr>\n",
       "      <th>1</th>\n",
       "      <td>1</td>\n",
       "      <td>0.348229</td>\n",
       "      <td>0.880178</td>\n",
       "      <td>0.398150</td>\n",
       "      <td>0.8640</td>\n",
       "    </tr>\n",
       "    <tr>\n",
       "      <th>2</th>\n",
       "      <td>2</td>\n",
       "      <td>0.218998</td>\n",
       "      <td>0.923978</td>\n",
       "      <td>0.383510</td>\n",
       "      <td>0.8764</td>\n",
       "    </tr>\n",
       "    <tr>\n",
       "      <th>22</th>\n",
       "      <td>22</td>\n",
       "      <td>0.000028</td>\n",
       "      <td>1.000000</td>\n",
       "      <td>0.731084</td>\n",
       "      <td>0.9026</td>\n",
       "    </tr>\n",
       "    <tr>\n",
       "      <th>23</th>\n",
       "      <td>23</td>\n",
       "      <td>0.000024</td>\n",
       "      <td>1.000000</td>\n",
       "      <td>0.739152</td>\n",
       "      <td>0.9036</td>\n",
       "    </tr>\n",
       "    <tr>\n",
       "      <th>24</th>\n",
       "      <td>24</td>\n",
       "      <td>0.000021</td>\n",
       "      <td>1.000000</td>\n",
       "      <td>0.745957</td>\n",
       "      <td>0.9036</td>\n",
       "    </tr>\n",
       "  </tbody>\n",
       "</table>\n",
       "</div>"
      ],
      "text/plain": [
       "    epoch  train_loss  train_acc  val_loss  val_acc\n",
       "0       0    0.653737   0.775778  0.451712   0.8420\n",
       "1       1    0.348229   0.880178  0.398150   0.8640\n",
       "2       2    0.218998   0.923978  0.383510   0.8764\n",
       "22     22    0.000028   1.000000  0.731084   0.9026\n",
       "23     23    0.000024   1.000000  0.739152   0.9036\n",
       "24     24    0.000021   1.000000  0.745957   0.9036"
      ]
     },
     "execution_count": 24,
     "metadata": {},
     "output_type": "execute_result"
    }
   ],
   "source": [
    "val_acc_history.head(3).append(val_acc_history.tail(3))"
   ]
  },
  {
   "cell_type": "code",
   "execution_count": 26,
   "metadata": {},
   "outputs": [],
   "source": [
    "val_acc_history.to_csv(path_logs+\"/EXP07.csv\", index=None)"
   ]
  },
  {
   "cell_type": "code",
   "execution_count": 27,
   "metadata": {},
   "outputs": [
    {
     "data": {
      "image/png": "[encoded data removed]",
      "text/plain": [
       "<Figure size 432x288 with 1 Axes>"
      ]
     },
     "metadata": {
      "needs_background": "light"
     },
     "output_type": "display_data"
    }
   ],
   "source": [
    "s = sns.lineplot(x='epoch', y='loss', data=plot_df, hue='phase')"
   ]
  },
  {
   "cell_type": "code",
   "execution_count": 28,
   "metadata": {},
   "outputs": [
    {
     "data": {
      "image/png": "[encoded data removed]",
      "text/plain": [
       "<Figure size 432x288 with 1 Axes>"
      ]
     },
     "metadata": {
      "needs_background": "light"
     },
     "output_type": "display_data"
    }
   ],
   "source": [
    "s = sns.lineplot(x='epoch', y='accuracy', data=plot_df, hue='phase')"
   ]
  },
  {
   "cell_type": "code",
   "execution_count": 32,
   "metadata": {},
   "outputs": [],
   "source": [
    "model.eval()"
   ]
  },
  {
   "cell_type": "code",
   "execution_count": 30,
   "metadata": {},
   "outputs": [
    {
     "name": "stdout",
     "output_type": "stream",
     "text": [
      "Accuracy of the network on the 10000 test images: 89.38 %\n"
     ]
    },
    {
     "data": {
      "image/png": "[encoded data removed]",
      "text/plain": [
       "<Figure size 914.4x379.44 with 1 Axes>"
      ]
     },
     "metadata": {},
     "output_type": "display_data"
    }
   ],
   "source": [
    "correct = 0\n",
    "total = 0\n",
    "with torch.no_grad():\n",
    "    for data in test_loader:\n",
    "        images, labels = data\n",
    "        outputs = best_model(images.to('cuda'))\n",
    "        _, predicted = torch.max(outputs.data, 1)\n",
    "        total += labels.size(0)\n",
    "        correct += (predicted.to('cuda') == labels.to('cuda')).sum().item()\n",
    "\n",
    "print('Accuracy of the network on the 10000 test images: {} %'.format(100 * correct / total))\n",
    "\n",
    "class_correct = list(0. for i in range(10))\n",
    "class_total = list(0. for i in range(10))\n",
    "with torch.no_grad():\n",
    "    for data in test_loader:\n",
    "        images, labels = data\n",
    "        outputs = best_model(images.to('cuda'))\n",
    "        _, predicted = torch.max(outputs, 1)\n",
    "        c = (predicted.to('cuda') == labels.to('cuda')).squeeze()\n",
    "        for i in range(4):\n",
    "            label = labels[i]\n",
    "            class_correct[label] += c[i].item()\n",
    "            class_total[label] += 1\n",
    "            \n",
    "acc_res_num = 100*np.array(class_correct) / np.array(class_total)\n",
    "acc_res_df = pd.DataFrame({\"class\": classes, \"Accuracy, %\": acc_res_num})\n",
    "sns.set(rc={'figure.figsize':(12.7,5.27)})\n",
    "s = sns.barplot(x='class', y='Accuracy, %', data=acc_res_df)"
   ]
  },
  {
   "cell_type": "code",
   "execution_count": 31,
   "metadata": {},
   "outputs": [
    {
     "data": {
      "text/html": [
       "<div>\n",
       "<style scoped>\n",
       "    .dataframe tbody tr th:only-of-type {\n",
       "        vertical-align: middle;\n",
       "    }\n",
       "\n",
       "    .dataframe tbody tr th {\n",
       "        vertical-align: top;\n",
       "    }\n",
       "\n",
       "    .dataframe thead th {\n",
       "        text-align: right;\n",
       "    }\n",
       "</style>\n",
       "<table border=\"1\" class=\"dataframe\">\n",
       "  <thead>\n",
       "    <tr style=\"text-align: right;\">\n",
       "      <th></th>\n",
       "      <th>class</th>\n",
       "      <th>Accuracy, %</th>\n",
       "    </tr>\n",
       "  </thead>\n",
       "  <tbody>\n",
       "    <tr>\n",
       "      <th>0</th>\n",
       "      <td>plane</td>\n",
       "      <td>94.12%</td>\n",
       "    </tr>\n",
       "    <tr>\n",
       "      <th>1</th>\n",
       "      <td>car</td>\n",
       "      <td>93.18%</td>\n",
       "    </tr>\n",
       "    <tr>\n",
       "      <th>2</th>\n",
       "      <td>bird</td>\n",
       "      <td>87.9%</td>\n",
       "    </tr>\n",
       "    <tr>\n",
       "      <th>3</th>\n",
       "      <td>cat</td>\n",
       "      <td>82.54%</td>\n",
       "    </tr>\n",
       "    <tr>\n",
       "      <th>4</th>\n",
       "      <td>deer</td>\n",
       "      <td>89.68%</td>\n",
       "    </tr>\n",
       "    <tr>\n",
       "      <th>5</th>\n",
       "      <td>dog</td>\n",
       "      <td>78.99%</td>\n",
       "    </tr>\n",
       "    <tr>\n",
       "      <th>6</th>\n",
       "      <td>frog</td>\n",
       "      <td>93.16%</td>\n",
       "    </tr>\n",
       "    <tr>\n",
       "      <th>7</th>\n",
       "      <td>horse</td>\n",
       "      <td>91.09%</td>\n",
       "    </tr>\n",
       "    <tr>\n",
       "      <th>8</th>\n",
       "      <td>ship</td>\n",
       "      <td>96.0%</td>\n",
       "    </tr>\n",
       "    <tr>\n",
       "      <th>9</th>\n",
       "      <td>truck</td>\n",
       "      <td>90.58%</td>\n",
       "    </tr>\n",
       "  </tbody>\n",
       "</table>\n",
       "</div>"
      ],
      "text/plain": [
       "   class Accuracy, %\n",
       "0  plane      94.12%\n",
       "1    car      93.18%\n",
       "2   bird       87.9%\n",
       "3    cat      82.54%\n",
       "4   deer      89.68%\n",
       "5    dog      78.99%\n",
       "6   frog      93.16%\n",
       "7  horse      91.09%\n",
       "8   ship       96.0%\n",
       "9  truck      90.58%"
      ]
     },
     "execution_count": 31,
     "metadata": {},
     "output_type": "execute_result"
    }
   ],
   "source": [
    "acc_res = [str(round(v, 2))+\"%\" for v in acc_res_num]\n",
    "acc_res_df_per = pd.DataFrame({\"class\": classes, \"Accuracy, %\": acc_res})\n",
    "acc_res_df_per"
   ]
  }
 ],
 "metadata": {
  "kernelspec": {
   "display_name": "Python 3",
   "language": "python",
   "name": "python3"
  },
  "language_info": {
   "codemirror_mode": {
    "name": "ipython",
    "version": 3
   },
   "file_extension": ".py",
   "mimetype": "text/x-python",
   "name": "python",
   "nbconvert_exporter": "python",
   "pygments_lexer": "ipython3",
   "version": "3.6.11"
  }
 },
 "nbformat": 4,
 "nbformat_minor": 2
}
