{
 "cells": [
  {
   "cell_type": "code",
   "execution_count": 1,
   "metadata": {},
   "outputs": [],
   "source": [
    "import os\n",
    "os.environ['CUDA_VISIBLE_DEVICES'] = '0'\n",
    "os.environ['CUDA_DEVICE_ORDER']='PCI_BUS_ID'"
   ]
  },
  {
   "cell_type": "code",
   "execution_count": 2,
   "metadata": {},
   "outputs": [],
   "source": [
    "from utils import *"
   ]
  },
  {
   "cell_type": "code",
   "execution_count": 3,
   "metadata": {},
   "outputs": [],
   "source": [
    "%load_ext autoreload\n",
    "%autoreload 2\n",
    "\n",
    "%matplotlib inline\n",
    "\n",
    "# make plots a bit nicer\n",
    "plt.matplotlib.rcParams.update({'font.size': 18, 'font.family': 'serif'})\n",
    "\n",
    "# path for dataset (will be not there after end of session)\n",
    "path_data = \"./data\"\n",
    "path_logs = \"./logs\""
   ]
  },
  {
   "cell_type": "code",
   "execution_count": 4,
   "metadata": {},
   "outputs": [],
   "source": [
    "classes = ('plane', 'car', 'bird', 'cat',\n",
    "           'deer', 'dog', 'frog', 'horse', 'ship', 'truck')"
   ]
  },
  {
   "cell_type": "markdown",
   "metadata": {},
   "source": [
    "### Dataloaders"
   ]
  },
  {
   "cell_type": "code",
   "execution_count": 5,
   "metadata": {},
   "outputs": [
    {
     "name": "stdout",
     "output_type": "stream",
     "text": [
      "Files already downloaded and verified\n",
      "Files already downloaded and verified\n",
      "Files already downloaded and verified\n"
     ]
    }
   ],
   "source": [
    "BATCH_SIZE = 32\n",
    "augment = False\n",
    "random_seed = 1\n",
    "\n",
    "train_loader, valid_loader = get_train_valid_loader(path_data,\n",
    "                           BATCH_SIZE,\n",
    "                           augment,\n",
    "                           random_seed,\n",
    "                           valid_size=0.1,\n",
    "                           shuffle=True,\n",
    "                           show_sample=False,\n",
    "                           num_workers=1,\n",
    "                           pin_memory=True)\n",
    "\n",
    "dataloaders = {\"train\": train_loader, \n",
    "               \"val\": valid_loader}\n",
    "\n",
    "test_loader = get_test_loader(path_data,\n",
    "                    BATCH_SIZE,\n",
    "                    shuffle=True,\n",
    "                    num_workers=1,\n",
    "                    pin_memory=True)"
   ]
  },
  {
   "cell_type": "markdown",
   "metadata": {},
   "source": [
    "### Simple convolutional Net"
   ]
  },
  {
   "cell_type": "code",
   "execution_count": 6,
   "metadata": {},
   "outputs": [],
   "source": [
    "class Net(nn.Module):\n",
    "    def __init__(self):\n",
    "        super(Net, self).__init__()\n",
    "        self.conv1 = nn.Conv2d(3, 6, 5)\n",
    "        self.pool = nn.MaxPool2d(2, 2)\n",
    "        self.conv2 = nn.Conv2d(6, 16, 5)\n",
    "        self.fc1 = nn.Linear(16 * 5 * 5, 120)\n",
    "        self.fc2 = nn.Linear(120, 84)\n",
    "        self.fc3 = nn.Linear(84, 10)\n",
    "\n",
    "    def forward(self, x):\n",
    "        x = self.pool(F.relu(self.conv1(x)))\n",
    "        x = self.pool(F.relu(self.conv2(x)))\n",
    "        x = x.view(-1, 16 * 5 * 5)\n",
    "        x = F.relu(self.fc1(x))\n",
    "        x = F.relu(self.fc2(x))\n",
    "        x = self.fc3(x)\n",
    "        return x"
   ]
  },
  {
   "cell_type": "code",
   "execution_count": 7,
   "metadata": {},
   "outputs": [],
   "source": [
    "model = Net()\n",
    "\n",
    "device = torch.device(\"cuda:0\" if torch.cuda.is_available() else \"cpu\")\n",
    "if torch.cuda.is_available():\n",
    "    model.cuda()"
   ]
  },
  {
   "cell_type": "code",
   "execution_count": 8,
   "metadata": {},
   "outputs": [],
   "source": [
    "criterion = nn.CrossEntropyLoss()\n",
    "optimizer = torch.optim.RMSprop(model.parameters(), lr=0.001, alpha=0.99, eps=1e-08, weight_decay=0, momentum=0, centered=False)"
   ]
  },
  {
   "cell_type": "code",
   "execution_count": 9,
   "metadata": {
    "scrolled": false
   },
   "outputs": [
    {
     "name": "stdout",
     "output_type": "stream",
     "text": [
      "Epoch 0/24 \tTrain loss: 1.6094 acc: 0.4136 \t\t Val loss: 1.5369 acc: 0.4594\n",
      "Epoch 1/24 \tTrain loss: 1.3425 acc: 0.5153 \t\t Val loss: 1.3106 acc: 0.5274\n",
      "Epoch 2/24 \tTrain loss: 1.2124 acc: 0.5652 \t\t Val loss: 1.3104 acc: 0.5308\n",
      "Epoch 3/24 \tTrain loss: 1.1164 acc: 0.6046 \t\t Val loss: 1.2425 acc: 0.5610\n",
      "Epoch 4/24 \tTrain loss: 1.0413 acc: 0.6303 \t\t Val loss: 1.1388 acc: 0.5958\n",
      "Epoch 5/24 \tTrain loss: 0.9777 acc: 0.6526 \t\t Val loss: 1.1993 acc: 0.5800\n",
      "Epoch 6/24 \tTrain loss: 0.9253 acc: 0.6721 \t\t Val loss: 1.0925 acc: 0.6220\n",
      "Epoch 7/24 \tTrain loss: 0.8766 acc: 0.6892 \t\t Val loss: 1.1427 acc: 0.5998\n",
      "Epoch 8/24 \tTrain loss: 0.8317 acc: 0.7037 \t\t Val loss: 1.2557 acc: 0.5858\n",
      "Epoch 9/24 \tTrain loss: 0.7934 acc: 0.7171 \t\t Val loss: 1.1744 acc: 0.6122\n",
      "Epoch 10/24 \tTrain loss: 0.7583 acc: 0.7307 \t\t Val loss: 1.1629 acc: 0.6154\n",
      "Epoch 11/24 \tTrain loss: 0.7243 acc: 0.7425 \t\t Val loss: 1.1904 acc: 0.6164\n",
      "Epoch 12/24 \tTrain loss: 0.6907 acc: 0.7537 \t\t Val loss: 1.1705 acc: 0.6226\n",
      "Epoch 13/24 \tTrain loss: 0.6602 acc: 0.7637 \t\t Val loss: 1.2566 acc: 0.6200\n",
      "Epoch 14/24 \tTrain loss: 0.6351 acc: 0.7723 \t\t Val loss: 1.3481 acc: 0.5922\n",
      "Epoch 15/24 \tTrain loss: 0.6088 acc: 0.7835 \t\t Val loss: 1.2827 acc: 0.6256\n",
      "Epoch 16/24 \tTrain loss: 0.5812 acc: 0.7923 \t\t Val loss: 1.3083 acc: 0.6254\n",
      "Epoch 17/24 \tTrain loss: 0.5580 acc: 0.7995 \t\t Val loss: 1.3943 acc: 0.6072\n",
      "Epoch 18/24 \tTrain loss: 0.5366 acc: 0.8063 \t\t Val loss: 1.3606 acc: 0.6166\n",
      "Epoch 19/24 \tTrain loss: 0.5147 acc: 0.8168 \t\t Val loss: 1.4704 acc: 0.6232\n",
      "Epoch 20/24 \tTrain loss: 0.4898 acc: 0.8250 \t\t Val loss: 1.4713 acc: 0.6162\n",
      "Epoch 21/24 \tTrain loss: 0.4755 acc: 0.8286 \t\t Val loss: 1.6577 acc: 0.6124\n",
      "Epoch 22/24 \tTrain loss: 0.4560 acc: 0.8360 \t\t Val loss: 1.6265 acc: 0.6094\n",
      "Epoch 23/24 \tTrain loss: 0.4393 acc: 0.8407 \t\t Val loss: 1.6729 acc: 0.6124\n",
      "Epoch 24/24 \tTrain loss: 0.4218 acc: 0.8484 \t\t Val loss: 1.6651 acc: 0.6074\n",
      "Training complete in 6m 17s\n",
      "Best val Acc: 0.625600\n",
      "Best epoch: 15\n"
     ]
    }
   ],
   "source": [
    "best_model, val_acc_history, plot_df = train_model(model, dataloaders, criterion, optimizer, device, num_epochs=25)"
   ]
  },
  {
   "cell_type": "code",
   "execution_count": 10,
   "metadata": {},
   "outputs": [
    {
     "data": {
      "text/html": [
       "<div>\n",
       "<style scoped>\n",
       "    .dataframe tbody tr th:only-of-type {\n",
       "        vertical-align: middle;\n",
       "    }\n",
       "\n",
       "    .dataframe tbody tr th {\n",
       "        vertical-align: top;\n",
       "    }\n",
       "\n",
       "    .dataframe thead th {\n",
       "        text-align: right;\n",
       "    }\n",
       "</style>\n",
       "<table border=\"1\" class=\"dataframe\">\n",
       "  <thead>\n",
       "    <tr style=\"text-align: right;\">\n",
       "      <th></th>\n",
       "      <th>epoch</th>\n",
       "      <th>train_loss</th>\n",
       "      <th>train_acc</th>\n",
       "      <th>val_loss</th>\n",
       "      <th>val_acc</th>\n",
       "    </tr>\n",
       "  </thead>\n",
       "  <tbody>\n",
       "    <tr>\n",
       "      <th>0</th>\n",
       "      <td>0</td>\n",
       "      <td>1.609387</td>\n",
       "      <td>0.413600</td>\n",
       "      <td>1.536931</td>\n",
       "      <td>0.4594</td>\n",
       "    </tr>\n",
       "    <tr>\n",
       "      <th>1</th>\n",
       "      <td>1</td>\n",
       "      <td>1.342515</td>\n",
       "      <td>0.515311</td>\n",
       "      <td>1.310567</td>\n",
       "      <td>0.5274</td>\n",
       "    </tr>\n",
       "    <tr>\n",
       "      <th>2</th>\n",
       "      <td>2</td>\n",
       "      <td>1.212362</td>\n",
       "      <td>0.565222</td>\n",
       "      <td>1.310430</td>\n",
       "      <td>0.5308</td>\n",
       "    </tr>\n",
       "    <tr>\n",
       "      <th>22</th>\n",
       "      <td>22</td>\n",
       "      <td>0.455955</td>\n",
       "      <td>0.835978</td>\n",
       "      <td>1.626504</td>\n",
       "      <td>0.6094</td>\n",
       "    </tr>\n",
       "    <tr>\n",
       "      <th>23</th>\n",
       "      <td>23</td>\n",
       "      <td>0.439270</td>\n",
       "      <td>0.840667</td>\n",
       "      <td>1.672926</td>\n",
       "      <td>0.6124</td>\n",
       "    </tr>\n",
       "    <tr>\n",
       "      <th>24</th>\n",
       "      <td>24</td>\n",
       "      <td>0.421780</td>\n",
       "      <td>0.848400</td>\n",
       "      <td>1.665059</td>\n",
       "      <td>0.6074</td>\n",
       "    </tr>\n",
       "  </tbody>\n",
       "</table>\n",
       "</div>"
      ],
      "text/plain": [
       "    epoch  train_loss  train_acc  val_loss  val_acc\n",
       "0       0    1.609387   0.413600  1.536931   0.4594\n",
       "1       1    1.342515   0.515311  1.310567   0.5274\n",
       "2       2    1.212362   0.565222  1.310430   0.5308\n",
       "22     22    0.455955   0.835978  1.626504   0.6094\n",
       "23     23    0.439270   0.840667  1.672926   0.6124\n",
       "24     24    0.421780   0.848400  1.665059   0.6074"
      ]
     },
     "execution_count": 10,
     "metadata": {},
     "output_type": "execute_result"
    }
   ],
   "source": [
    "val_acc_history.head(3).append(val_acc_history.tail(3))"
   ]
  },
  {
   "cell_type": "code",
   "execution_count": 11,
   "metadata": {},
   "outputs": [],
   "source": [
    "val_acc_history.to_csv(path_logs+\"/EXP03.csv\", index=None)"
   ]
  },
  {
   "cell_type": "code",
   "execution_count": 12,
   "metadata": {},
   "outputs": [
    {
     "data": {
      "image/png": "[encoded data removed]",
      "text/plain": [
       "<Figure size 432x288 with 1 Axes>"
      ]
     },
     "metadata": {
      "needs_background": "light"
     },
     "output_type": "display_data"
    }
   ],
   "source": [
    "s = sns.lineplot(x='epoch', y='loss', data=plot_df, hue='phase')"
   ]
  },
  {
   "cell_type": "code",
   "execution_count": 13,
   "metadata": {},
   "outputs": [
    {
     "data": {
      "image/png": "[encoded data removed]",
      "text/plain": [
       "<Figure size 432x288 with 1 Axes>"
      ]
     },
     "metadata": {
      "needs_background": "light"
     },
     "output_type": "display_data"
    }
   ],
   "source": [
    "s = sns.lineplot(x='epoch', y='accuracy', data=plot_df, hue='phase')"
   ]
  },
  {
   "cell_type": "code",
   "execution_count": 14,
   "metadata": {},
   "outputs": [
    {
     "data": {
      "text/plain": [
       "Net(\n",
       "  (conv1): Conv2d(3, 6, kernel_size=(5, 5), stride=(1, 1))\n",
       "  (pool): MaxPool2d(kernel_size=2, stride=2, padding=0, dilation=1, ceil_mode=False)\n",
       "  (conv2): Conv2d(6, 16, kernel_size=(5, 5), stride=(1, 1))\n",
       "  (fc1): Linear(in_features=400, out_features=120, bias=True)\n",
       "  (fc2): Linear(in_features=120, out_features=84, bias=True)\n",
       "  (fc3): Linear(in_features=84, out_features=10, bias=True)\n",
       ")"
      ]
     },
     "execution_count": 14,
     "metadata": {},
     "output_type": "execute_result"
    }
   ],
   "source": [
    "model.eval()"
   ]
  },
  {
   "cell_type": "code",
   "execution_count": 15,
   "metadata": {},
   "outputs": [
    {
     "name": "stdout",
     "output_type": "stream",
     "text": [
      "Accuracy of the network on the 10000 test images: 62.15 %\n"
     ]
    },
    {
     "data": {
      "image/png": "[encoded data removed]",
      "text/plain": [
       "<Figure size 914.4x379.44 with 1 Axes>"
      ]
     },
     "metadata": {},
     "output_type": "display_data"
    }
   ],
   "source": [
    "correct = 0\n",
    "total = 0\n",
    "with torch.no_grad():\n",
    "    for data in test_loader:\n",
    "        images, labels = data\n",
    "        outputs = best_model(images.to('cuda'))\n",
    "        _, predicted = torch.max(outputs.data, 1)\n",
    "        total += labels.size(0)\n",
    "        correct += (predicted.to('cuda') == labels.to('cuda')).sum().item()\n",
    "\n",
    "print('Accuracy of the network on the 10000 test images: {} %'.format(100 * correct / total))\n",
    "\n",
    "class_correct = list(0. for i in range(10))\n",
    "class_total = list(0. for i in range(10))\n",
    "with torch.no_grad():\n",
    "    for data in test_loader:\n",
    "        images, labels = data\n",
    "        outputs = best_model(images.to('cuda'))\n",
    "        _, predicted = torch.max(outputs, 1)\n",
    "        c = (predicted.to('cuda') == labels.to('cuda')).squeeze()\n",
    "        for i in range(4):\n",
    "            label = labels[i]\n",
    "            class_correct[label] += c[i].item()\n",
    "            class_total[label] += 1\n",
    "            \n",
    "acc_res_num = 100*np.array(class_correct) / np.array(class_total)\n",
    "acc_res_df = pd.DataFrame({\"class\": classes, \"Accuracy, %\": acc_res_num})\n",
    "sns.set(rc={'figure.figsize':(12.7,5.27)})\n",
    "s = sns.barplot(x='class', y='Accuracy, %', data=acc_res_df)"
   ]
  },
  {
   "cell_type": "code",
   "execution_count": 16,
   "metadata": {},
   "outputs": [
    {
     "data": {
      "text/html": [
       "<div>\n",
       "<style scoped>\n",
       "    .dataframe tbody tr th:only-of-type {\n",
       "        vertical-align: middle;\n",
       "    }\n",
       "\n",
       "    .dataframe tbody tr th {\n",
       "        vertical-align: top;\n",
       "    }\n",
       "\n",
       "    .dataframe thead th {\n",
       "        text-align: right;\n",
       "    }\n",
       "</style>\n",
       "<table border=\"1\" class=\"dataframe\">\n",
       "  <thead>\n",
       "    <tr style=\"text-align: right;\">\n",
       "      <th></th>\n",
       "      <th>class</th>\n",
       "      <th>Accuracy, %</th>\n",
       "    </tr>\n",
       "  </thead>\n",
       "  <tbody>\n",
       "    <tr>\n",
       "      <th>0</th>\n",
       "      <td>plane</td>\n",
       "      <td>54.63%</td>\n",
       "    </tr>\n",
       "    <tr>\n",
       "      <th>1</th>\n",
       "      <td>car</td>\n",
       "      <td>78.95%</td>\n",
       "    </tr>\n",
       "    <tr>\n",
       "      <th>2</th>\n",
       "      <td>bird</td>\n",
       "      <td>47.55%</td>\n",
       "    </tr>\n",
       "    <tr>\n",
       "      <th>3</th>\n",
       "      <td>cat</td>\n",
       "      <td>33.58%</td>\n",
       "    </tr>\n",
       "    <tr>\n",
       "      <th>4</th>\n",
       "      <td>deer</td>\n",
       "      <td>66.94%</td>\n",
       "    </tr>\n",
       "    <tr>\n",
       "      <th>5</th>\n",
       "      <td>dog</td>\n",
       "      <td>58.59%</td>\n",
       "    </tr>\n",
       "    <tr>\n",
       "      <th>6</th>\n",
       "      <td>frog</td>\n",
       "      <td>75.21%</td>\n",
       "    </tr>\n",
       "    <tr>\n",
       "      <th>7</th>\n",
       "      <td>horse</td>\n",
       "      <td>64.0%</td>\n",
       "    </tr>\n",
       "    <tr>\n",
       "      <th>8</th>\n",
       "      <td>ship</td>\n",
       "      <td>72.03%</td>\n",
       "    </tr>\n",
       "    <tr>\n",
       "      <th>9</th>\n",
       "      <td>truck</td>\n",
       "      <td>54.55%</td>\n",
       "    </tr>\n",
       "  </tbody>\n",
       "</table>\n",
       "</div>"
      ],
      "text/plain": [
       "   class Accuracy, %\n",
       "0  plane      54.63%\n",
       "1    car      78.95%\n",
       "2   bird      47.55%\n",
       "3    cat      33.58%\n",
       "4   deer      66.94%\n",
       "5    dog      58.59%\n",
       "6   frog      75.21%\n",
       "7  horse       64.0%\n",
       "8   ship      72.03%\n",
       "9  truck      54.55%"
      ]
     },
     "execution_count": 16,
     "metadata": {},
     "output_type": "execute_result"
    }
   ],
   "source": [
    "acc_res = [str(round(v, 2))+\"%\" for v in acc_res_num]\n",
    "acc_res_df_per = pd.DataFrame({\"class\": classes, \"Accuracy, %\": acc_res})\n",
    "acc_res_df_per"
   ]
  }
 ],
 "metadata": {
  "kernelspec": {
   "display_name": "Python 3",
   "language": "python",
   "name": "python3"
  },
  "language_info": {
   "codemirror_mode": {
    "name": "ipython",
    "version": 3
   },
   "file_extension": ".py",
   "mimetype": "text/x-python",
   "name": "python",
   "nbconvert_exporter": "python",
   "pygments_lexer": "ipython3",
   "version": "3.6.11"
  }
 },
 "nbformat": 4,
 "nbformat_minor": 2
}
