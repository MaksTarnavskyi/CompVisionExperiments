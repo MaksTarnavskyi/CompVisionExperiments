{
 "cells": [
  {
   "cell_type": "code",
   "execution_count": 24,
   "metadata": {},
   "outputs": [],
   "source": [
    "import pandas as pd\n",
    "import numpy as np\n",
    "import matplotlib.pyplot as plt\n",
    "import seaborn as sns"
   ]
  },
  {
   "cell_type": "code",
   "execution_count": 25,
   "metadata": {},
   "outputs": [
    {
     "data": {
      "text/html": [
       "<div>\n",
       "<style scoped>\n",
       "    .dataframe tbody tr th:only-of-type {\n",
       "        vertical-align: middle;\n",
       "    }\n",
       "\n",
       "    .dataframe tbody tr th {\n",
       "        vertical-align: top;\n",
       "    }\n",
       "\n",
       "    .dataframe thead th {\n",
       "        text-align: right;\n",
       "    }\n",
       "</style>\n",
       "<table border=\"1\" class=\"dataframe\">\n",
       "  <thead>\n",
       "    <tr style=\"text-align: right;\">\n",
       "      <th></th>\n",
       "      <th>Experiment</th>\n",
       "      <th>Optimizer</th>\n",
       "      <th>Best epoch</th>\n",
       "      <th>Test accuracy, %</th>\n",
       "    </tr>\n",
       "  </thead>\n",
       "  <tbody>\n",
       "    <tr>\n",
       "      <th>0</th>\n",
       "      <td>EXP01</td>\n",
       "      <td>SGD</td>\n",
       "      <td>22</td>\n",
       "      <td>65.50</td>\n",
       "    </tr>\n",
       "    <tr>\n",
       "      <th>1</th>\n",
       "      <td>EXP02</td>\n",
       "      <td>Adam</td>\n",
       "      <td>14</td>\n",
       "      <td>63.71</td>\n",
       "    </tr>\n",
       "    <tr>\n",
       "      <th>2</th>\n",
       "      <td>EXP03</td>\n",
       "      <td>RMSProp</td>\n",
       "      <td>15</td>\n",
       "      <td>62.15</td>\n",
       "    </tr>\n",
       "  </tbody>\n",
       "</table>\n",
       "</div>"
      ],
      "text/plain": [
       "  Experiment Optimizer  Best epoch  Test accuracy, %\n",
       "0      EXP01       SGD          22             65.50\n",
       "1      EXP02      Adam          14             63.71\n",
       "2      EXP03   RMSProp          15             62.15"
      ]
     },
     "execution_count": 25,
     "metadata": {},
     "output_type": "execute_result"
    }
   ],
   "source": [
    "df_optimizer = pd.DataFrame({\"Experiment\":[\"EXP01\", \"EXP02\", \"EXP03\"], \n",
    "                             \"Optimizer\":[\"SGD\", \"Adam\", \"RMSProp\"], \n",
    "                             \"Best epoch\":[22, 14, 15],\n",
    "                             \"Test accuracy, %\":[65.5, 63.71, 62.15]})\n",
    "df_optimizer"
   ]
  },
  {
   "cell_type": "code",
   "execution_count": 26,
   "metadata": {},
   "outputs": [
    {
     "data": {
      "image/png": "[encoded data removed]",
      "text/plain": [
       "<Figure size 576x360 with 1 Axes>"
      ]
     },
     "metadata": {},
     "output_type": "display_data"
    }
   ],
   "source": [
    "sns.set(rc={'figure.figsize':(8,5)})\n",
    "ax = sns.barplot(x='Experiment', y='Test accuracy, %', data=df_optimizer, hue='Optimizer')\n",
    "ax = ax.set_ylim([59,67])"
   ]
  },
  {
   "cell_type": "code",
   "execution_count": 27,
   "metadata": {},
   "outputs": [
    {
     "data": {
      "text/html": [
       "<div>\n",
       "<style scoped>\n",
       "    .dataframe tbody tr th:only-of-type {\n",
       "        vertical-align: middle;\n",
       "    }\n",
       "\n",
       "    .dataframe tbody tr th {\n",
       "        vertical-align: top;\n",
       "    }\n",
       "\n",
       "    .dataframe thead th {\n",
       "        text-align: right;\n",
       "    }\n",
       "</style>\n",
       "<table border=\"1\" class=\"dataframe\">\n",
       "  <thead>\n",
       "    <tr style=\"text-align: right;\">\n",
       "      <th></th>\n",
       "      <th>Experiment</th>\n",
       "      <th>Use augmentation</th>\n",
       "      <th>Best epoch</th>\n",
       "      <th>Test accuracy, %</th>\n",
       "    </tr>\n",
       "  </thead>\n",
       "  <tbody>\n",
       "    <tr>\n",
       "      <th>0</th>\n",
       "      <td>EXP01</td>\n",
       "      <td>False</td>\n",
       "      <td>22</td>\n",
       "      <td>65.50</td>\n",
       "    </tr>\n",
       "    <tr>\n",
       "      <th>1</th>\n",
       "      <td>EXP04</td>\n",
       "      <td>True</td>\n",
       "      <td>21</td>\n",
       "      <td>64.43</td>\n",
       "    </tr>\n",
       "    <tr>\n",
       "      <th>2</th>\n",
       "      <td>EXP05</td>\n",
       "      <td>True</td>\n",
       "      <td>49</td>\n",
       "      <td>68.89</td>\n",
       "    </tr>\n",
       "  </tbody>\n",
       "</table>\n",
       "</div>"
      ],
      "text/plain": [
       "  Experiment  Use augmentation  Best epoch  Test accuracy, %\n",
       "0      EXP01             False          22             65.50\n",
       "1      EXP04              True          21             64.43\n",
       "2      EXP05              True          49             68.89"
      ]
     },
     "execution_count": 27,
     "metadata": {},
     "output_type": "execute_result"
    }
   ],
   "source": [
    "df_augm = pd.DataFrame({\"Experiment\":[\"EXP01\", \"EXP04\", \"EXP05\"], \n",
    "                            \"Use augmentation\": [False, True, True],\n",
    "                             \"Best epoch\":[22, 21, 49],\n",
    "                             \"Test accuracy, %\":[65.5, 64.43, 68.89]})\n",
    "df_augm"
   ]
  },
  {
   "cell_type": "code",
   "execution_count": 28,
   "metadata": {},
   "outputs": [
    {
     "data": {
      "image/png": "[encoded data removed]",
      "text/plain": [
       "<Figure size 576x360 with 1 Axes>"
      ]
     },
     "metadata": {},
     "output_type": "display_data"
    }
   ],
   "source": [
    "sns.set(rc={'figure.figsize':(8,5)})\n",
    "ax = sns.barplot(x='Experiment', y='Test accuracy, %', data=df_augm, hue='Use augmentation')\n",
    "ax = ax.set_ylim([60,70])"
   ]
  },
  {
   "cell_type": "code",
   "execution_count": 29,
   "metadata": {},
   "outputs": [
    {
     "data": {
      "text/html": [
       "<div>\n",
       "<style scoped>\n",
       "    .dataframe tbody tr th:only-of-type {\n",
       "        vertical-align: middle;\n",
       "    }\n",
       "\n",
       "    .dataframe tbody tr th {\n",
       "        vertical-align: top;\n",
       "    }\n",
       "\n",
       "    .dataframe thead th {\n",
       "        text-align: right;\n",
       "    }\n",
       "</style>\n",
       "<table border=\"1\" class=\"dataframe\">\n",
       "  <thead>\n",
       "    <tr style=\"text-align: right;\">\n",
       "      <th></th>\n",
       "      <th>Experiment</th>\n",
       "      <th>Model</th>\n",
       "      <th>Weights initialization</th>\n",
       "      <th>Best epoch</th>\n",
       "      <th>Test accuracy, %</th>\n",
       "    </tr>\n",
       "  </thead>\n",
       "  <tbody>\n",
       "    <tr>\n",
       "      <th>0</th>\n",
       "      <td>EXP01</td>\n",
       "      <td>Simple Net</td>\n",
       "      <td>Random</td>\n",
       "      <td>22</td>\n",
       "      <td>65.50</td>\n",
       "    </tr>\n",
       "    <tr>\n",
       "      <th>1</th>\n",
       "      <td>EXP06</td>\n",
       "      <td>VGG-16</td>\n",
       "      <td>Random</td>\n",
       "      <td>22</td>\n",
       "      <td>78.59</td>\n",
       "    </tr>\n",
       "    <tr>\n",
       "      <th>2</th>\n",
       "      <td>EXP07</td>\n",
       "      <td>VGG-16 ImageNet</td>\n",
       "      <td>ImageNet</td>\n",
       "      <td>23</td>\n",
       "      <td>89.38</td>\n",
       "    </tr>\n",
       "  </tbody>\n",
       "</table>\n",
       "</div>"
      ],
      "text/plain": [
       "  Experiment            Model Weights initialization  Best epoch  \\\n",
       "0      EXP01       Simple Net                 Random          22   \n",
       "1      EXP06           VGG-16                 Random          22   \n",
       "2      EXP07  VGG-16 ImageNet               ImageNet          23   \n",
       "\n",
       "   Test accuracy, %  \n",
       "0             65.50  \n",
       "1             78.59  \n",
       "2             89.38  "
      ]
     },
     "execution_count": 29,
     "metadata": {},
     "output_type": "execute_result"
    }
   ],
   "source": [
    "df_models = pd.DataFrame({\"Experiment\":[\"EXP01\", \"EXP06\", \"EXP07\"], \n",
    "                          \"Model\": [\"Simple Net\", \"VGG-16\", \"VGG-16 ImageNet\"],\n",
    "                            \"Weights initialization\": [\"Random\", \"Random\", \"ImageNet\"],\n",
    "                             \"Best epoch\":[22, 22, 23], \n",
    "                             \"Test accuracy, %\":[65.5, 78.59, 89.38]})\n",
    "df_models"
   ]
  },
  {
   "cell_type": "code",
   "execution_count": 30,
   "metadata": {},
   "outputs": [
    {
     "data": {
      "image/png": "[encoded data removed]",
      "text/plain": [
       "<Figure size 576x360 with 1 Axes>"
      ]
     },
     "metadata": {},
     "output_type": "display_data"
    }
   ],
   "source": [
    "sns.set(rc={'figure.figsize':(8,5)})\n",
    "ax = sns.barplot(x='Experiment', y='Test accuracy, %', data=df_models, hue='Model')\n",
    "ax = ax.set_ylim([50,90])"
   ]
  },
  {
   "cell_type": "code",
   "execution_count": 33,
   "metadata": {},
   "outputs": [
    {
     "data": {
      "text/html": [
       "<div>\n",
       "<style scoped>\n",
       "    .dataframe tbody tr th:only-of-type {\n",
       "        vertical-align: middle;\n",
       "    }\n",
       "\n",
       "    .dataframe tbody tr th {\n",
       "        vertical-align: top;\n",
       "    }\n",
       "\n",
       "    .dataframe thead th {\n",
       "        text-align: right;\n",
       "    }\n",
       "</style>\n",
       "<table border=\"1\" class=\"dataframe\">\n",
       "  <thead>\n",
       "    <tr style=\"text-align: right;\">\n",
       "      <th></th>\n",
       "      <th>Experiment</th>\n",
       "      <th>Test accuracy, %</th>\n",
       "    </tr>\n",
       "  </thead>\n",
       "  <tbody>\n",
       "    <tr>\n",
       "      <th>0</th>\n",
       "      <td>EXP01</td>\n",
       "      <td>65.50</td>\n",
       "    </tr>\n",
       "    <tr>\n",
       "      <th>1</th>\n",
       "      <td>EXP02</td>\n",
       "      <td>63.71</td>\n",
       "    </tr>\n",
       "    <tr>\n",
       "      <th>2</th>\n",
       "      <td>EXP03</td>\n",
       "      <td>62.15</td>\n",
       "    </tr>\n",
       "    <tr>\n",
       "      <th>3</th>\n",
       "      <td>EXP04</td>\n",
       "      <td>64.43</td>\n",
       "    </tr>\n",
       "    <tr>\n",
       "      <th>4</th>\n",
       "      <td>EXP05</td>\n",
       "      <td>68.89</td>\n",
       "    </tr>\n",
       "    <tr>\n",
       "      <th>5</th>\n",
       "      <td>EXP06</td>\n",
       "      <td>78.59</td>\n",
       "    </tr>\n",
       "    <tr>\n",
       "      <th>6</th>\n",
       "      <td>EXP07</td>\n",
       "      <td>89.38</td>\n",
       "    </tr>\n",
       "  </tbody>\n",
       "</table>\n",
       "</div>"
      ],
      "text/plain": [
       "  Experiment  Test accuracy, %\n",
       "0      EXP01             65.50\n",
       "1      EXP02             63.71\n",
       "2      EXP03             62.15\n",
       "3      EXP04             64.43\n",
       "4      EXP05             68.89\n",
       "5      EXP06             78.59\n",
       "6      EXP07             89.38"
      ]
     },
     "execution_count": 33,
     "metadata": {},
     "output_type": "execute_result"
    }
   ],
   "source": [
    "df_exper = pd.DataFrame({\"Experiment\":[\"EXP01\", \"EXP02\",\"EXP03\",\"EXP04\",\"EXP05\",\"EXP06\", \"EXP07\"],          \n",
    "                             \"Test accuracy, %\":[65.5, 63.71, 62.15,64.43, 68.89,78.59, 89.38]})\n",
    "\n",
    "df_exper"
   ]
  },
  {
   "cell_type": "code",
   "execution_count": 34,
   "metadata": {},
   "outputs": [
    {
     "data": {
      "image/png": "[encoded data removed]",
      "text/plain": [
       "<Figure size 576x360 with 1 Axes>"
      ]
     },
     "metadata": {},
     "output_type": "display_data"
    }
   ],
   "source": [
    "sns.set(rc={'figure.figsize':(8,5)})\n",
    "ax = sns.barplot(x='Experiment', y='Test accuracy, %', data=df_exper)\n",
    "ax = ax.set_ylim([50,90])"
   ]
  },
  {
   "cell_type": "code",
   "execution_count": 32,
   "metadata": {},
   "outputs": [
    {
     "data": {
      "text/html": [
       "<div>\n",
       "<style scoped>\n",
       "    .dataframe tbody tr th:only-of-type {\n",
       "        vertical-align: middle;\n",
       "    }\n",
       "\n",
       "    .dataframe tbody tr th {\n",
       "        vertical-align: top;\n",
       "    }\n",
       "\n",
       "    .dataframe thead th {\n",
       "        text-align: right;\n",
       "    }\n",
       "</style>\n",
       "<table border=\"1\" class=\"dataframe\">\n",
       "  <thead>\n",
       "    <tr style=\"text-align: right;\">\n",
       "      <th></th>\n",
       "      <th>EXP01</th>\n",
       "      <th>EXP02</th>\n",
       "      <th>EXP03</th>\n",
       "      <th>EXP04</th>\n",
       "      <th>EXP05</th>\n",
       "      <th>EXP06</th>\n",
       "      <th>EXP07</th>\n",
       "    </tr>\n",
       "  </thead>\n",
       "  <tbody>\n",
       "    <tr>\n",
       "      <th>Accuracy</th>\n",
       "      <td>65.5</td>\n",
       "      <td>63.71</td>\n",
       "      <td>62.15</td>\n",
       "      <td>64.43</td>\n",
       "      <td>68.89</td>\n",
       "      <td>78.59</td>\n",
       "      <td>89.38</td>\n",
       "    </tr>\n",
       "  </tbody>\n",
       "</table>\n",
       "</div>"
      ],
      "text/plain": [
       "          EXP01  EXP02  EXP03  EXP04  EXP05  EXP06  EXP07\n",
       "Accuracy   65.5  63.71  62.15  64.43  68.89  78.59  89.38"
      ]
     },
     "execution_count": 32,
     "metadata": {},
     "output_type": "execute_result"
    }
   ],
   "source": [
    "df_exper = pd.DataFrame([[65.5, 63.71, 62.15,64.43, 68.89,78.59, 89.38]], \n",
    "                        columns = [\"EXP01\", \"EXP02\",\"EXP03\",\"EXP04\",\"EXP05\",\"EXP06\", \"EXP07\"],\n",
    "                        index = [\"Accuracy\"]\n",
    "                            )\n",
    "\n",
    "df_exper"
   ]
  },
  {
   "cell_type": "code",
   "execution_count": null,
   "metadata": {},
   "outputs": [],
   "source": []
  },
  {
   "cell_type": "code",
   "execution_count": null,
   "metadata": {},
   "outputs": [],
   "source": []
  }
 ],
 "metadata": {
  "kernelspec": {
   "display_name": "Python 3",
   "language": "python",
   "name": "python3"
  },
  "language_info": {
   "codemirror_mode": {
    "name": "ipython",
    "version": 3
   },
   "file_extension": ".py",
   "mimetype": "text/x-python",
   "name": "python",
   "nbconvert_exporter": "python",
   "pygments_lexer": "ipython3",
   "version": "3.6.11"
  }
 },
 "nbformat": 4,
 "nbformat_minor": 2
}
