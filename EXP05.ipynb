{
 "cells": [
  {
   "cell_type": "code",
   "execution_count": 1,
   "metadata": {},
   "outputs": [],
   "source": [
    "import os\n",
    "os.environ['CUDA_VISIBLE_DEVICES'] = '0'\n",
    "os.environ['CUDA_DEVICE_ORDER']='PCI_BUS_ID'"
   ]
  },
  {
   "cell_type": "code",
   "execution_count": 2,
   "metadata": {},
   "outputs": [],
   "source": [
    "from utils import *"
   ]
  },
  {
   "cell_type": "code",
   "execution_count": 3,
   "metadata": {},
   "outputs": [],
   "source": [
    "%load_ext autoreload\n",
    "%autoreload 2\n",
    "\n",
    "%matplotlib inline\n",
    "\n",
    "# make plots a bit nicer\n",
    "plt.matplotlib.rcParams.update({'font.size': 18, 'font.family': 'serif'})\n",
    "\n",
    "# path for dataset (will be not there after end of session)\n",
    "path_data = \"./data\"\n",
    "path_logs = \"./logs\""
   ]
  },
  {
   "cell_type": "code",
   "execution_count": 4,
   "metadata": {},
   "outputs": [],
   "source": [
    "classes = ('plane', 'car', 'bird', 'cat',\n",
    "           'deer', 'dog', 'frog', 'horse', 'ship', 'truck')"
   ]
  },
  {
   "cell_type": "markdown",
   "metadata": {},
   "source": [
    "### Dataloaders"
   ]
  },
  {
   "cell_type": "code",
   "execution_count": 5,
   "metadata": {},
   "outputs": [
    {
     "name": "stdout",
     "output_type": "stream",
     "text": [
      "Files already downloaded and verified\n",
      "Files already downloaded and verified\n",
      "Files already downloaded and verified\n"
     ]
    }
   ],
   "source": [
    "BATCH_SIZE = 32\n",
    "augment = True\n",
    "random_seed = 1\n",
    "\n",
    "train_loader, valid_loader = get_train_valid_loader(path_data,\n",
    "                           BATCH_SIZE,\n",
    "                           augment,\n",
    "                           random_seed,\n",
    "                           valid_size=0.1,\n",
    "                           shuffle=True,\n",
    "                           show_sample=False,\n",
    "                           num_workers=1,\n",
    "                           pin_memory=True)\n",
    "\n",
    "dataloaders = {\"train\": train_loader, \n",
    "               \"val\": valid_loader}\n",
    "\n",
    "test_loader = get_test_loader(path_data,\n",
    "                    BATCH_SIZE,\n",
    "                    shuffle=True,\n",
    "                    num_workers=1,\n",
    "                    pin_memory=True)"
   ]
  },
  {
   "cell_type": "markdown",
   "metadata": {},
   "source": [
    "### Simple convolutional Net"
   ]
  },
  {
   "cell_type": "code",
   "execution_count": 6,
   "metadata": {},
   "outputs": [],
   "source": [
    "class Net(nn.Module):\n",
    "    def __init__(self):\n",
    "        super(Net, self).__init__()\n",
    "        self.conv1 = nn.Conv2d(3, 6, 5)\n",
    "        self.pool = nn.MaxPool2d(2, 2)\n",
    "        self.conv2 = nn.Conv2d(6, 16, 5)\n",
    "        self.fc1 = nn.Linear(16 * 5 * 5, 120)\n",
    "        self.fc2 = nn.Linear(120, 84)\n",
    "        self.fc3 = nn.Linear(84, 10)\n",
    "\n",
    "    def forward(self, x):\n",
    "        x = self.pool(F.relu(self.conv1(x)))\n",
    "        x = self.pool(F.relu(self.conv2(x)))\n",
    "        x = x.view(-1, 16 * 5 * 5)\n",
    "        x = F.relu(self.fc1(x))\n",
    "        x = F.relu(self.fc2(x))\n",
    "        x = self.fc3(x)\n",
    "        return x"
   ]
  },
  {
   "cell_type": "code",
   "execution_count": 7,
   "metadata": {},
   "outputs": [],
   "source": [
    "model = Net()\n",
    "\n",
    "device = torch.device(\"cuda:0\" if torch.cuda.is_available() else \"cpu\")\n",
    "if torch.cuda.is_available():\n",
    "    model.cuda()"
   ]
  },
  {
   "cell_type": "code",
   "execution_count": 8,
   "metadata": {},
   "outputs": [],
   "source": [
    "criterion = nn.CrossEntropyLoss()\n",
    "optimizer = torch.optim.SGD(model.parameters(), lr=0.001, momentum=0.9)"
   ]
  },
  {
   "cell_type": "code",
   "execution_count": 9,
   "metadata": {
    "scrolled": false
   },
   "outputs": [
    {
     "name": "stdout",
     "output_type": "stream",
     "text": [
      "Epoch 0/49 \tTrain loss: 2.2460 acc: 0.1491 \t\t Val loss: 2.0420 acc: 0.2568\n",
      "Epoch 1/49 \tTrain loss: 1.8983 acc: 0.2975 \t\t Val loss: 1.7791 acc: 0.3510\n",
      "Epoch 2/49 \tTrain loss: 1.7055 acc: 0.3661 \t\t Val loss: 1.5717 acc: 0.4296\n",
      "Epoch 3/49 \tTrain loss: 1.6170 acc: 0.4045 \t\t Val loss: 1.5025 acc: 0.4428\n",
      "Epoch 4/49 \tTrain loss: 1.5525 acc: 0.4292 \t\t Val loss: 1.4667 acc: 0.4604\n",
      "Epoch 5/49 \tTrain loss: 1.5020 acc: 0.4506 \t\t Val loss: 1.3825 acc: 0.5030\n",
      "Epoch 6/49 \tTrain loss: 1.4477 acc: 0.4708 \t\t Val loss: 1.3304 acc: 0.5160\n",
      "Epoch 7/49 \tTrain loss: 1.4018 acc: 0.4907 \t\t Val loss: 1.3003 acc: 0.5252\n",
      "Epoch 8/49 \tTrain loss: 1.3598 acc: 0.5049 \t\t Val loss: 1.2781 acc: 0.5480\n",
      "Epoch 9/49 \tTrain loss: 1.3297 acc: 0.5209 \t\t Val loss: 1.2209 acc: 0.5598\n",
      "Epoch 10/49 \tTrain loss: 1.2995 acc: 0.5318 \t\t Val loss: 1.1771 acc: 0.5756\n",
      "Epoch 11/49 \tTrain loss: 1.2685 acc: 0.5440 \t\t Val loss: 1.1784 acc: 0.5816\n",
      "Epoch 12/49 \tTrain loss: 1.2433 acc: 0.5552 \t\t Val loss: 1.1648 acc: 0.5850\n",
      "Epoch 13/49 \tTrain loss: 1.2190 acc: 0.5652 \t\t Val loss: 1.1144 acc: 0.5950\n",
      "Epoch 14/49 \tTrain loss: 1.1979 acc: 0.5709 \t\t Val loss: 1.1323 acc: 0.5904\n",
      "Epoch 15/49 \tTrain loss: 1.1745 acc: 0.5802 \t\t Val loss: 1.1143 acc: 0.6066\n",
      "Epoch 16/49 \tTrain loss: 1.1578 acc: 0.5893 \t\t Val loss: 1.0698 acc: 0.6174\n",
      "Epoch 17/49 \tTrain loss: 1.1406 acc: 0.5941 \t\t Val loss: 1.0256 acc: 0.6382\n",
      "Epoch 18/49 \tTrain loss: 1.1234 acc: 0.6009 \t\t Val loss: 1.0132 acc: 0.6426\n",
      "Epoch 19/49 \tTrain loss: 1.1171 acc: 0.6047 \t\t Val loss: 1.0111 acc: 0.6396\n",
      "Epoch 20/49 \tTrain loss: 1.1026 acc: 0.6088 \t\t Val loss: 1.0122 acc: 0.6368\n",
      "Epoch 21/49 \tTrain loss: 1.0958 acc: 0.6106 \t\t Val loss: 0.9932 acc: 0.6508\n",
      "Epoch 22/49 \tTrain loss: 1.0789 acc: 0.6157 \t\t Val loss: 0.9896 acc: 0.6466\n",
      "Epoch 23/49 \tTrain loss: 1.0689 acc: 0.6205 \t\t Val loss: 0.9704 acc: 0.6562\n",
      "Epoch 24/49 \tTrain loss: 1.0655 acc: 0.6214 \t\t Val loss: 0.9842 acc: 0.6468\n",
      "Epoch 25/49 \tTrain loss: 1.0506 acc: 0.6266 \t\t Val loss: 0.9513 acc: 0.6662\n",
      "Epoch 26/49 \tTrain loss: 1.0418 acc: 0.6309 \t\t Val loss: 0.9422 acc: 0.6756\n",
      "Epoch 27/49 \tTrain loss: 1.0352 acc: 0.6334 \t\t Val loss: 0.9370 acc: 0.6714\n",
      "Epoch 28/49 \tTrain loss: 1.0232 acc: 0.6378 \t\t Val loss: 0.9342 acc: 0.6692\n",
      "Epoch 29/49 \tTrain loss: 1.0173 acc: 0.6406 \t\t Val loss: 0.9242 acc: 0.6754\n",
      "Epoch 30/49 \tTrain loss: 1.0132 acc: 0.6396 \t\t Val loss: 0.9213 acc: 0.6728\n",
      "Epoch 31/49 \tTrain loss: 1.0076 acc: 0.6453 \t\t Val loss: 0.9016 acc: 0.6856\n",
      "Epoch 32/49 \tTrain loss: 0.9975 acc: 0.6455 \t\t Val loss: 0.9311 acc: 0.6682\n",
      "Epoch 33/49 \tTrain loss: 0.9939 acc: 0.6466 \t\t Val loss: 0.9012 acc: 0.6806\n",
      "Epoch 34/49 \tTrain loss: 0.9897 acc: 0.6512 \t\t Val loss: 0.9010 acc: 0.6846\n",
      "Epoch 35/49 \tTrain loss: 0.9855 acc: 0.6524 \t\t Val loss: 0.9198 acc: 0.6776\n",
      "Epoch 36/49 \tTrain loss: 0.9787 acc: 0.6552 \t\t Val loss: 0.9008 acc: 0.6854\n",
      "Epoch 37/49 \tTrain loss: 0.9757 acc: 0.6544 \t\t Val loss: 0.8772 acc: 0.6952\n",
      "Epoch 38/49 \tTrain loss: 0.9732 acc: 0.6552 \t\t Val loss: 0.8992 acc: 0.6854\n",
      "Epoch 39/49 \tTrain loss: 0.9667 acc: 0.6576 \t\t Val loss: 0.8892 acc: 0.6882\n",
      "Epoch 40/49 \tTrain loss: 0.9586 acc: 0.6611 \t\t Val loss: 0.8580 acc: 0.7016\n",
      "Epoch 41/49 \tTrain loss: 0.9541 acc: 0.6619 \t\t Val loss: 0.8664 acc: 0.6954\n",
      "Epoch 42/49 \tTrain loss: 0.9476 acc: 0.6659 \t\t Val loss: 0.8779 acc: 0.6918\n",
      "Epoch 43/49 \tTrain loss: 0.9476 acc: 0.6658 \t\t Val loss: 0.8960 acc: 0.6866\n",
      "Epoch 44/49 \tTrain loss: 0.9418 acc: 0.6666 \t\t Val loss: 0.8788 acc: 0.6912\n",
      "Epoch 45/49 \tTrain loss: 0.9425 acc: 0.6662 \t\t Val loss: 0.8697 acc: 0.6972\n",
      "Epoch 46/49 \tTrain loss: 0.9358 acc: 0.6685 \t\t Val loss: 0.8528 acc: 0.7040\n",
      "Epoch 47/49 \tTrain loss: 0.9257 acc: 0.6716 \t\t Val loss: 0.8535 acc: 0.7016\n",
      "Epoch 48/49 \tTrain loss: 0.9241 acc: 0.6738 \t\t Val loss: 0.8543 acc: 0.7014\n",
      "Epoch 49/49 \tTrain loss: 0.9234 acc: 0.6741 \t\t Val loss: 0.8466 acc: 0.7074\n",
      "Training complete in 15m 14s\n",
      "Best val Acc: 0.707400\n",
      "Best epoch: 49\n"
     ]
    }
   ],
   "source": [
    "best_model, val_acc_history, plot_df = train_model(model, dataloaders, criterion, optimizer, device, num_epochs=50)"
   ]
  },
  {
   "cell_type": "code",
   "execution_count": 10,
   "metadata": {},
   "outputs": [
    {
     "data": {
      "text/html": [
       "<div>\n",
       "<style scoped>\n",
       "    .dataframe tbody tr th:only-of-type {\n",
       "        vertical-align: middle;\n",
       "    }\n",
       "\n",
       "    .dataframe tbody tr th {\n",
       "        vertical-align: top;\n",
       "    }\n",
       "\n",
       "    .dataframe thead th {\n",
       "        text-align: right;\n",
       "    }\n",
       "</style>\n",
       "<table border=\"1\" class=\"dataframe\">\n",
       "  <thead>\n",
       "    <tr style=\"text-align: right;\">\n",
       "      <th></th>\n",
       "      <th>epoch</th>\n",
       "      <th>train_loss</th>\n",
       "      <th>train_acc</th>\n",
       "      <th>val_loss</th>\n",
       "      <th>val_acc</th>\n",
       "    </tr>\n",
       "  </thead>\n",
       "  <tbody>\n",
       "    <tr>\n",
       "      <th>0</th>\n",
       "      <td>0</td>\n",
       "      <td>2.245990</td>\n",
       "      <td>0.149067</td>\n",
       "      <td>2.042017</td>\n",
       "      <td>0.2568</td>\n",
       "    </tr>\n",
       "    <tr>\n",
       "      <th>1</th>\n",
       "      <td>1</td>\n",
       "      <td>1.898348</td>\n",
       "      <td>0.297489</td>\n",
       "      <td>1.779119</td>\n",
       "      <td>0.3510</td>\n",
       "    </tr>\n",
       "    <tr>\n",
       "      <th>2</th>\n",
       "      <td>2</td>\n",
       "      <td>1.705466</td>\n",
       "      <td>0.366111</td>\n",
       "      <td>1.571716</td>\n",
       "      <td>0.4296</td>\n",
       "    </tr>\n",
       "    <tr>\n",
       "      <th>47</th>\n",
       "      <td>47</td>\n",
       "      <td>0.925670</td>\n",
       "      <td>0.671600</td>\n",
       "      <td>0.853537</td>\n",
       "      <td>0.7016</td>\n",
       "    </tr>\n",
       "    <tr>\n",
       "      <th>48</th>\n",
       "      <td>48</td>\n",
       "      <td>0.924058</td>\n",
       "      <td>0.673756</td>\n",
       "      <td>0.854297</td>\n",
       "      <td>0.7014</td>\n",
       "    </tr>\n",
       "    <tr>\n",
       "      <th>49</th>\n",
       "      <td>49</td>\n",
       "      <td>0.923381</td>\n",
       "      <td>0.674067</td>\n",
       "      <td>0.846604</td>\n",
       "      <td>0.7074</td>\n",
       "    </tr>\n",
       "  </tbody>\n",
       "</table>\n",
       "</div>"
      ],
      "text/plain": [
       "    epoch  train_loss  train_acc  val_loss  val_acc\n",
       "0       0    2.245990   0.149067  2.042017   0.2568\n",
       "1       1    1.898348   0.297489  1.779119   0.3510\n",
       "2       2    1.705466   0.366111  1.571716   0.4296\n",
       "47     47    0.925670   0.671600  0.853537   0.7016\n",
       "48     48    0.924058   0.673756  0.854297   0.7014\n",
       "49     49    0.923381   0.674067  0.846604   0.7074"
      ]
     },
     "execution_count": 10,
     "metadata": {},
     "output_type": "execute_result"
    }
   ],
   "source": [
    "val_acc_history.head(3).append(val_acc_history.tail(3))"
   ]
  },
  {
   "cell_type": "code",
   "execution_count": 11,
   "metadata": {},
   "outputs": [],
   "source": [
    "val_acc_history.to_csv(path_logs+\"/EXP05.csv\", index=None)"
   ]
  },
  {
   "cell_type": "code",
   "execution_count": 12,
   "metadata": {},
   "outputs": [
    {
     "data": {
      "image/png": "[encoded data removed]",
      "text/plain": [
       "<Figure size 432x288 with 1 Axes>"
      ]
     },
     "metadata": {
      "needs_background": "light"
     },
     "output_type": "display_data"
    }
   ],
   "source": [
    "s = sns.lineplot(x='epoch', y='loss', data=plot_df, hue='phase')"
   ]
  },
  {
   "cell_type": "code",
   "execution_count": 13,
   "metadata": {},
   "outputs": [
    {
     "data": {
      "image/png": "[encoded data removed]",
      "text/plain": [
       "<Figure size 432x288 with 1 Axes>"
      ]
     },
     "metadata": {
      "needs_background": "light"
     },
     "output_type": "display_data"
    }
   ],
   "source": [
    "s = sns.lineplot(x='epoch', y='accuracy', data=plot_df, hue='phase')"
   ]
  },
  {
   "cell_type": "code",
   "execution_count": 14,
   "metadata": {},
   "outputs": [
    {
     "data": {
      "text/plain": [
       "Net(\n",
       "  (conv1): Conv2d(3, 6, kernel_size=(5, 5), stride=(1, 1))\n",
       "  (pool): MaxPool2d(kernel_size=2, stride=2, padding=0, dilation=1, ceil_mode=False)\n",
       "  (conv2): Conv2d(6, 16, kernel_size=(5, 5), stride=(1, 1))\n",
       "  (fc1): Linear(in_features=400, out_features=120, bias=True)\n",
       "  (fc2): Linear(in_features=120, out_features=84, bias=True)\n",
       "  (fc3): Linear(in_features=84, out_features=10, bias=True)\n",
       ")"
      ]
     },
     "execution_count": 14,
     "metadata": {},
     "output_type": "execute_result"
    }
   ],
   "source": [
    "model.eval()"
   ]
  },
  {
   "cell_type": "code",
   "execution_count": 15,
   "metadata": {},
   "outputs": [
    {
     "name": "stdout",
     "output_type": "stream",
     "text": [
      "Accuracy of the network on the 10000 test images: 68.89 %\n"
     ]
    },
    {
     "data": {
      "image/png": "[encoded data removed]",
      "text/plain": [
       "<Figure size 914.4x379.44 with 1 Axes>"
      ]
     },
     "metadata": {},
     "output_type": "display_data"
    }
   ],
   "source": [
    "correct = 0\n",
    "total = 0\n",
    "with torch.no_grad():\n",
    "    for data in test_loader:\n",
    "        images, labels = data\n",
    "        outputs = best_model(images.to('cuda'))\n",
    "        _, predicted = torch.max(outputs.data, 1)\n",
    "        total += labels.size(0)\n",
    "        correct += (predicted.to('cuda') == labels.to('cuda')).sum().item()\n",
    "\n",
    "print('Accuracy of the network on the 10000 test images: {} %'.format(100 * correct / total))\n",
    "\n",
    "class_correct = list(0. for i in range(10))\n",
    "class_total = list(0. for i in range(10))\n",
    "with torch.no_grad():\n",
    "    for data in test_loader:\n",
    "        images, labels = data\n",
    "        outputs = best_model(images.to('cuda'))\n",
    "        _, predicted = torch.max(outputs, 1)\n",
    "        c = (predicted.to('cuda') == labels.to('cuda')).squeeze()\n",
    "        for i in range(4):\n",
    "            label = labels[i]\n",
    "            class_correct[label] += c[i].item()\n",
    "            class_total[label] += 1\n",
    "            \n",
    "acc_res_num = 100*np.array(class_correct) / np.array(class_total)\n",
    "acc_res_df = pd.DataFrame({\"class\": classes, \"Accuracy, %\": acc_res_num})\n",
    "sns.set(rc={'figure.figsize':(12.7,5.27)})\n",
    "s = sns.barplot(x='class', y='Accuracy, %', data=acc_res_df)"
   ]
  },
  {
   "cell_type": "code",
   "execution_count": 16,
   "metadata": {},
   "outputs": [
    {
     "data": {
      "text/html": [
       "<div>\n",
       "<style scoped>\n",
       "    .dataframe tbody tr th:only-of-type {\n",
       "        vertical-align: middle;\n",
       "    }\n",
       "\n",
       "    .dataframe tbody tr th {\n",
       "        vertical-align: top;\n",
       "    }\n",
       "\n",
       "    .dataframe thead th {\n",
       "        text-align: right;\n",
       "    }\n",
       "</style>\n",
       "<table border=\"1\" class=\"dataframe\">\n",
       "  <thead>\n",
       "    <tr style=\"text-align: right;\">\n",
       "      <th></th>\n",
       "      <th>class</th>\n",
       "      <th>Accuracy, %</th>\n",
       "    </tr>\n",
       "  </thead>\n",
       "  <tbody>\n",
       "    <tr>\n",
       "      <th>0</th>\n",
       "      <td>plane</td>\n",
       "      <td>71.76%</td>\n",
       "    </tr>\n",
       "    <tr>\n",
       "      <th>1</th>\n",
       "      <td>car</td>\n",
       "      <td>79.37%</td>\n",
       "    </tr>\n",
       "    <tr>\n",
       "      <th>2</th>\n",
       "      <td>bird</td>\n",
       "      <td>65.18%</td>\n",
       "    </tr>\n",
       "    <tr>\n",
       "      <th>3</th>\n",
       "      <td>cat</td>\n",
       "      <td>35.9%</td>\n",
       "    </tr>\n",
       "    <tr>\n",
       "      <th>4</th>\n",
       "      <td>deer</td>\n",
       "      <td>52.48%</td>\n",
       "    </tr>\n",
       "    <tr>\n",
       "      <th>5</th>\n",
       "      <td>dog</td>\n",
       "      <td>52.99%</td>\n",
       "    </tr>\n",
       "    <tr>\n",
       "      <th>6</th>\n",
       "      <td>frog</td>\n",
       "      <td>75.91%</td>\n",
       "    </tr>\n",
       "    <tr>\n",
       "      <th>7</th>\n",
       "      <td>horse</td>\n",
       "      <td>76.0%</td>\n",
       "    </tr>\n",
       "    <tr>\n",
       "      <th>8</th>\n",
       "      <td>ship</td>\n",
       "      <td>83.78%</td>\n",
       "    </tr>\n",
       "    <tr>\n",
       "      <th>9</th>\n",
       "      <td>truck</td>\n",
       "      <td>73.73%</td>\n",
       "    </tr>\n",
       "  </tbody>\n",
       "</table>\n",
       "</div>"
      ],
      "text/plain": [
       "   class Accuracy, %\n",
       "0  plane      71.76%\n",
       "1    car      79.37%\n",
       "2   bird      65.18%\n",
       "3    cat       35.9%\n",
       "4   deer      52.48%\n",
       "5    dog      52.99%\n",
       "6   frog      75.91%\n",
       "7  horse       76.0%\n",
       "8   ship      83.78%\n",
       "9  truck      73.73%"
      ]
     },
     "execution_count": 16,
     "metadata": {},
     "output_type": "execute_result"
    }
   ],
   "source": [
    "acc_res = [str(round(v, 2))+\"%\" for v in acc_res_num]\n",
    "acc_res_df_per = pd.DataFrame({\"class\": classes, \"Accuracy, %\": acc_res})\n",
    "acc_res_df_per"
   ]
  }
 ],
 "metadata": {
  "kernelspec": {
   "display_name": "Python 3",
   "language": "python",
   "name": "python3"
  },
  "language_info": {
   "codemirror_mode": {
    "name": "ipython",
    "version": 3
   },
   "file_extension": ".py",
   "mimetype": "text/x-python",
   "name": "python",
   "nbconvert_exporter": "python",
   "pygments_lexer": "ipython3",
   "version": "3.6.11"
  }
 },
 "nbformat": 4,
 "nbformat_minor": 2
}
