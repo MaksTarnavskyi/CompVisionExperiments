{
 "cells": [
  {
   "cell_type": "code",
   "execution_count": 1,
   "metadata": {},
   "outputs": [],
   "source": [
    "import os\n",
    "os.environ['CUDA_VISIBLE_DEVICES'] = '0'\n",
    "os.environ['CUDA_DEVICE_ORDER']='PCI_BUS_ID'"
   ]
  },
  {
   "cell_type": "code",
   "execution_count": 2,
   "metadata": {},
   "outputs": [],
   "source": [
    "from utils import *"
   ]
  },
  {
   "cell_type": "code",
   "execution_count": 3,
   "metadata": {},
   "outputs": [],
   "source": [
    "%load_ext autoreload\n",
    "%autoreload 2\n",
    "\n",
    "%matplotlib inline\n",
    "\n",
    "# make plots a bit nicer\n",
    "plt.matplotlib.rcParams.update({'font.size': 18, 'font.family': 'serif'})\n",
    "\n",
    "# path for dataset (will be not there after end of session)\n",
    "path_data = \"./data\"\n",
    "path_logs = \"./logs\""
   ]
  },
  {
   "cell_type": "code",
   "execution_count": 4,
   "metadata": {},
   "outputs": [],
   "source": [
    "classes = ('plane', 'car', 'bird', 'cat',\n",
    "           'deer', 'dog', 'frog', 'horse', 'ship', 'truck')"
   ]
  },
  {
   "cell_type": "markdown",
   "metadata": {},
   "source": [
    "### Dataloaders"
   ]
  },
  {
   "cell_type": "code",
   "execution_count": 5,
   "metadata": {},
   "outputs": [
    {
     "name": "stdout",
     "output_type": "stream",
     "text": [
      "Files already downloaded and verified\n",
      "Files already downloaded and verified\n",
      "Files already downloaded and verified\n"
     ]
    }
   ],
   "source": [
    "BATCH_SIZE = 32\n",
    "augment = False\n",
    "random_seed = 1\n",
    "\n",
    "train_loader, valid_loader = get_train_valid_loader(path_data,\n",
    "                           BATCH_SIZE,\n",
    "                           augment,\n",
    "                           random_seed,\n",
    "                           valid_size=0.1,\n",
    "                           shuffle=True,\n",
    "                           show_sample=False,\n",
    "                           num_workers=1,\n",
    "                           pin_memory=True)\n",
    "\n",
    "dataloaders = {\"train\": train_loader, \n",
    "               \"val\": valid_loader}\n",
    "\n",
    "test_loader = get_test_loader(path_data,\n",
    "                    BATCH_SIZE,\n",
    "                    shuffle=True,\n",
    "                    num_workers=1,\n",
    "                    pin_memory=True)"
   ]
  },
  {
   "cell_type": "markdown",
   "metadata": {},
   "source": [
    "### Simple convolutional Net"
   ]
  },
  {
   "cell_type": "code",
   "execution_count": 6,
   "metadata": {},
   "outputs": [],
   "source": [
    "class Net(nn.Module):\n",
    "    def __init__(self):\n",
    "        super(Net, self).__init__()\n",
    "        self.conv1 = nn.Conv2d(3, 6, 5)\n",
    "        self.pool = nn.MaxPool2d(2, 2)\n",
    "        self.conv2 = nn.Conv2d(6, 16, 5)\n",
    "        self.fc1 = nn.Linear(16 * 5 * 5, 120)\n",
    "        self.fc2 = nn.Linear(120, 84)\n",
    "        self.fc3 = nn.Linear(84, 10)\n",
    "\n",
    "    def forward(self, x):\n",
    "        x = self.pool(F.relu(self.conv1(x)))\n",
    "        x = self.pool(F.relu(self.conv2(x)))\n",
    "        x = x.view(-1, 16 * 5 * 5)\n",
    "        x = F.relu(self.fc1(x))\n",
    "        x = F.relu(self.fc2(x))\n",
    "        x = self.fc3(x)\n",
    "        return x"
   ]
  },
  {
   "cell_type": "code",
   "execution_count": 7,
   "metadata": {},
   "outputs": [],
   "source": [
    "model = Net()\n",
    "\n",
    "device = torch.device(\"cuda:0\" if torch.cuda.is_available() else \"cpu\")\n",
    "if torch.cuda.is_available():\n",
    "    model.cuda()"
   ]
  },
  {
   "cell_type": "code",
   "execution_count": 8,
   "metadata": {},
   "outputs": [],
   "source": [
    "criterion = nn.CrossEntropyLoss()\n",
    "optimizer = torch.optim.SGD(model.parameters(), lr=0.001, momentum=0.9)"
   ]
  },
  {
   "cell_type": "code",
   "execution_count": 9,
   "metadata": {
    "scrolled": false
   },
   "outputs": [
    {
     "name": "stdout",
     "output_type": "stream",
     "text": [
      "Epoch 0/24 \tTrain loss: 2.2241 acc: 0.1673 \t\t Val loss: 1.9950 acc: 0.2952\n",
      "Epoch 1/24 \tTrain loss: 1.8036 acc: 0.3429 \t\t Val loss: 1.7458 acc: 0.3620\n",
      "Epoch 2/24 \tTrain loss: 1.5702 acc: 0.4246 \t\t Val loss: 1.5161 acc: 0.4482\n",
      "Epoch 3/24 \tTrain loss: 1.4671 acc: 0.4649 \t\t Val loss: 1.4415 acc: 0.4648\n",
      "Epoch 4/24 \tTrain loss: 1.3878 acc: 0.4963 \t\t Val loss: 1.3902 acc: 0.4964\n",
      "Epoch 5/24 \tTrain loss: 1.3130 acc: 0.5276 \t\t Val loss: 1.2910 acc: 0.5330\n",
      "Epoch 6/24 \tTrain loss: 1.2458 acc: 0.5544 \t\t Val loss: 1.2681 acc: 0.5404\n",
      "Epoch 7/24 \tTrain loss: 1.1926 acc: 0.5732 \t\t Val loss: 1.2051 acc: 0.5618\n",
      "Epoch 8/24 \tTrain loss: 1.1442 acc: 0.5922 \t\t Val loss: 1.1743 acc: 0.5770\n",
      "Epoch 9/24 \tTrain loss: 1.1052 acc: 0.6078 \t\t Val loss: 1.1306 acc: 0.5972\n",
      "Epoch 10/24 \tTrain loss: 1.0682 acc: 0.6228 \t\t Val loss: 1.0993 acc: 0.6018\n",
      "Epoch 11/24 \tTrain loss: 1.0273 acc: 0.6385 \t\t Val loss: 1.0921 acc: 0.6084\n",
      "Epoch 12/24 \tTrain loss: 0.9974 acc: 0.6475 \t\t Val loss: 1.0824 acc: 0.6128\n",
      "Epoch 13/24 \tTrain loss: 0.9661 acc: 0.6613 \t\t Val loss: 1.0720 acc: 0.6176\n",
      "Epoch 14/24 \tTrain loss: 0.9378 acc: 0.6688 \t\t Val loss: 1.0407 acc: 0.6242\n",
      "Epoch 15/24 \tTrain loss: 0.9084 acc: 0.6813 \t\t Val loss: 1.0434 acc: 0.6304\n",
      "Epoch 16/24 \tTrain loss: 0.8870 acc: 0.6889 \t\t Val loss: 1.0228 acc: 0.6354\n",
      "Epoch 17/24 \tTrain loss: 0.8626 acc: 0.6952 \t\t Val loss: 1.0030 acc: 0.6456\n",
      "Epoch 18/24 \tTrain loss: 0.8364 acc: 0.7068 \t\t Val loss: 0.9866 acc: 0.6458\n",
      "Epoch 19/24 \tTrain loss: 0.8185 acc: 0.7120 \t\t Val loss: 0.9858 acc: 0.6522\n",
      "Epoch 20/24 \tTrain loss: 0.7959 acc: 0.7207 \t\t Val loss: 0.9842 acc: 0.6536\n",
      "Epoch 21/24 \tTrain loss: 0.7733 acc: 0.7295 \t\t Val loss: 0.9824 acc: 0.6578\n",
      "Epoch 22/24 \tTrain loss: 0.7533 acc: 0.7335 \t\t Val loss: 1.0030 acc: 0.6592\n",
      "Epoch 23/24 \tTrain loss: 0.7312 acc: 0.7418 \t\t Val loss: 1.0095 acc: 0.6548\n",
      "Epoch 24/24 \tTrain loss: 0.7143 acc: 0.7504 \t\t Val loss: 1.0117 acc: 0.6564\n",
      "Training complete in 6m 12s\n",
      "Best val Acc: 0.659200\n",
      "Best epoch: 22\n"
     ]
    }
   ],
   "source": [
    "best_model, val_acc_history, plot_df = train_model(model, dataloaders, criterion, optimizer, device, num_epochs=25)"
   ]
  },
  {
   "cell_type": "code",
   "execution_count": 10,
   "metadata": {},
   "outputs": [
    {
     "data": {
      "text/html": [
       "<div>\n",
       "<style scoped>\n",
       "    .dataframe tbody tr th:only-of-type {\n",
       "        vertical-align: middle;\n",
       "    }\n",
       "\n",
       "    .dataframe tbody tr th {\n",
       "        vertical-align: top;\n",
       "    }\n",
       "\n",
       "    .dataframe thead th {\n",
       "        text-align: right;\n",
       "    }\n",
       "</style>\n",
       "<table border=\"1\" class=\"dataframe\">\n",
       "  <thead>\n",
       "    <tr style=\"text-align: right;\">\n",
       "      <th></th>\n",
       "      <th>epoch</th>\n",
       "      <th>train_loss</th>\n",
       "      <th>train_acc</th>\n",
       "      <th>val_loss</th>\n",
       "      <th>val_acc</th>\n",
       "    </tr>\n",
       "  </thead>\n",
       "  <tbody>\n",
       "    <tr>\n",
       "      <th>0</th>\n",
       "      <td>0</td>\n",
       "      <td>2.224096</td>\n",
       "      <td>0.167267</td>\n",
       "      <td>1.995000</td>\n",
       "      <td>0.2952</td>\n",
       "    </tr>\n",
       "    <tr>\n",
       "      <th>1</th>\n",
       "      <td>1</td>\n",
       "      <td>1.803566</td>\n",
       "      <td>0.342933</td>\n",
       "      <td>1.745773</td>\n",
       "      <td>0.3620</td>\n",
       "    </tr>\n",
       "    <tr>\n",
       "      <th>2</th>\n",
       "      <td>2</td>\n",
       "      <td>1.570217</td>\n",
       "      <td>0.424600</td>\n",
       "      <td>1.516111</td>\n",
       "      <td>0.4482</td>\n",
       "    </tr>\n",
       "    <tr>\n",
       "      <th>22</th>\n",
       "      <td>22</td>\n",
       "      <td>0.753318</td>\n",
       "      <td>0.733467</td>\n",
       "      <td>1.002978</td>\n",
       "      <td>0.6592</td>\n",
       "    </tr>\n",
       "    <tr>\n",
       "      <th>23</th>\n",
       "      <td>23</td>\n",
       "      <td>0.731191</td>\n",
       "      <td>0.741800</td>\n",
       "      <td>1.009534</td>\n",
       "      <td>0.6548</td>\n",
       "    </tr>\n",
       "    <tr>\n",
       "      <th>24</th>\n",
       "      <td>24</td>\n",
       "      <td>0.714316</td>\n",
       "      <td>0.750422</td>\n",
       "      <td>1.011746</td>\n",
       "      <td>0.6564</td>\n",
       "    </tr>\n",
       "  </tbody>\n",
       "</table>\n",
       "</div>"
      ],
      "text/plain": [
       "    epoch  train_loss  train_acc  val_loss  val_acc\n",
       "0       0    2.224096   0.167267  1.995000   0.2952\n",
       "1       1    1.803566   0.342933  1.745773   0.3620\n",
       "2       2    1.570217   0.424600  1.516111   0.4482\n",
       "22     22    0.753318   0.733467  1.002978   0.6592\n",
       "23     23    0.731191   0.741800  1.009534   0.6548\n",
       "24     24    0.714316   0.750422  1.011746   0.6564"
      ]
     },
     "execution_count": 10,
     "metadata": {},
     "output_type": "execute_result"
    }
   ],
   "source": [
    "val_acc_history.head(3).append(val_acc_history.tail(3))"
   ]
  },
  {
   "cell_type": "code",
   "execution_count": 11,
   "metadata": {},
   "outputs": [],
   "source": [
    "val_acc_history.to_csv(path_logs+\"/EXP01.csv\", index=None)"
   ]
  },
  {
   "cell_type": "code",
   "execution_count": 12,
   "metadata": {},
   "outputs": [
    {
     "data": {
      "image/png": "[encoded data removed]",
      "text/plain": [
       "<Figure size 432x288 with 1 Axes>"
      ]
     },
     "metadata": {
      "needs_background": "light"
     },
     "output_type": "display_data"
    }
   ],
   "source": [
    "s = sns.lineplot(x='epoch', y='loss', data=plot_df, hue='phase')"
   ]
  },
  {
   "cell_type": "code",
   "execution_count": 13,
   "metadata": {},
   "outputs": [
    {
     "data": {
      "image/png": "[encoded data removed]",
      "text/plain": [
       "<Figure size 432x288 with 1 Axes>"
      ]
     },
     "metadata": {
      "needs_background": "light"
     },
     "output_type": "display_data"
    }
   ],
   "source": [
    "s = sns.lineplot(x='epoch', y='accuracy', data=plot_df, hue='phase')"
   ]
  },
  {
   "cell_type": "code",
   "execution_count": 14,
   "metadata": {},
   "outputs": [
    {
     "data": {
      "text/plain": [
       "Net(\n",
       "  (conv1): Conv2d(3, 6, kernel_size=(5, 5), stride=(1, 1))\n",
       "  (pool): MaxPool2d(kernel_size=2, stride=2, padding=0, dilation=1, ceil_mode=False)\n",
       "  (conv2): Conv2d(6, 16, kernel_size=(5, 5), stride=(1, 1))\n",
       "  (fc1): Linear(in_features=400, out_features=120, bias=True)\n",
       "  (fc2): Linear(in_features=120, out_features=84, bias=True)\n",
       "  (fc3): Linear(in_features=84, out_features=10, bias=True)\n",
       ")"
      ]
     },
     "execution_count": 14,
     "metadata": {},
     "output_type": "execute_result"
    }
   ],
   "source": [
    "model.eval()"
   ]
  },
  {
   "cell_type": "code",
   "execution_count": 15,
   "metadata": {},
   "outputs": [
    {
     "name": "stdout",
     "output_type": "stream",
     "text": [
      "Accuracy of the network on the 10000 test images: 65.5 %\n"
     ]
    },
    {
     "data": {
      "image/png": "[encoded data removed]",
      "text/plain": [
       "<Figure size 914.4x379.44 with 1 Axes>"
      ]
     },
     "metadata": {},
     "output_type": "display_data"
    }
   ],
   "source": [
    "correct = 0\n",
    "total = 0\n",
    "with torch.no_grad():\n",
    "    for data in test_loader:\n",
    "        images, labels = data\n",
    "        outputs = best_model(images.to('cuda'))\n",
    "        _, predicted = torch.max(outputs.data, 1)\n",
    "        total += labels.size(0)\n",
    "        correct += (predicted.to('cuda') == labels.to('cuda')).sum().item()\n",
    "\n",
    "print('Accuracy of the network on the 10000 test images: {} %'.format(100 * correct / total))\n",
    "\n",
    "class_correct = list(0. for i in range(10))\n",
    "class_total = list(0. for i in range(10))\n",
    "with torch.no_grad():\n",
    "    for data in test_loader:\n",
    "        images, labels = data\n",
    "        outputs = best_model(images.to('cuda'))\n",
    "        _, predicted = torch.max(outputs, 1)\n",
    "        c = (predicted.to('cuda') == labels.to('cuda')).squeeze()\n",
    "        for i in range(4):\n",
    "            label = labels[i]\n",
    "            class_correct[label] += c[i].item()\n",
    "            class_total[label] += 1\n",
    "            \n",
    "acc_res_num = 100*np.array(class_correct) / np.array(class_total)\n",
    "acc_res_df = pd.DataFrame({\"class\": classes, \"Accuracy, %\": acc_res_num})\n",
    "sns.set(rc={'figure.figsize':(12.7,5.27)})\n",
    "s = sns.barplot(x='class', y='Accuracy, %', data=acc_res_df)"
   ]
  },
  {
   "cell_type": "code",
   "execution_count": 16,
   "metadata": {},
   "outputs": [
    {
     "data": {
      "text/html": [
       "<div>\n",
       "<style scoped>\n",
       "    .dataframe tbody tr th:only-of-type {\n",
       "        vertical-align: middle;\n",
       "    }\n",
       "\n",
       "    .dataframe tbody tr th {\n",
       "        vertical-align: top;\n",
       "    }\n",
       "\n",
       "    .dataframe thead th {\n",
       "        text-align: right;\n",
       "    }\n",
       "</style>\n",
       "<table border=\"1\" class=\"dataframe\">\n",
       "  <thead>\n",
       "    <tr style=\"text-align: right;\">\n",
       "      <th></th>\n",
       "      <th>class</th>\n",
       "      <th>Accuracy, %</th>\n",
       "    </tr>\n",
       "  </thead>\n",
       "  <tbody>\n",
       "    <tr>\n",
       "      <th>0</th>\n",
       "      <td>plane</td>\n",
       "      <td>50.93%</td>\n",
       "    </tr>\n",
       "    <tr>\n",
       "      <th>1</th>\n",
       "      <td>car</td>\n",
       "      <td>81.2%</td>\n",
       "    </tr>\n",
       "    <tr>\n",
       "      <th>2</th>\n",
       "      <td>bird</td>\n",
       "      <td>61.54%</td>\n",
       "    </tr>\n",
       "    <tr>\n",
       "      <th>3</th>\n",
       "      <td>cat</td>\n",
       "      <td>44.03%</td>\n",
       "    </tr>\n",
       "    <tr>\n",
       "      <th>4</th>\n",
       "      <td>deer</td>\n",
       "      <td>61.16%</td>\n",
       "    </tr>\n",
       "    <tr>\n",
       "      <th>5</th>\n",
       "      <td>dog</td>\n",
       "      <td>57.81%</td>\n",
       "    </tr>\n",
       "    <tr>\n",
       "      <th>6</th>\n",
       "      <td>frog</td>\n",
       "      <td>77.69%</td>\n",
       "    </tr>\n",
       "    <tr>\n",
       "      <th>7</th>\n",
       "      <td>horse</td>\n",
       "      <td>71.2%</td>\n",
       "    </tr>\n",
       "    <tr>\n",
       "      <th>8</th>\n",
       "      <td>ship</td>\n",
       "      <td>78.81%</td>\n",
       "    </tr>\n",
       "    <tr>\n",
       "      <th>9</th>\n",
       "      <td>truck</td>\n",
       "      <td>60.33%</td>\n",
       "    </tr>\n",
       "  </tbody>\n",
       "</table>\n",
       "</div>"
      ],
      "text/plain": [
       "   class Accuracy, %\n",
       "0  plane      50.93%\n",
       "1    car       81.2%\n",
       "2   bird      61.54%\n",
       "3    cat      44.03%\n",
       "4   deer      61.16%\n",
       "5    dog      57.81%\n",
       "6   frog      77.69%\n",
       "7  horse       71.2%\n",
       "8   ship      78.81%\n",
       "9  truck      60.33%"
      ]
     },
     "execution_count": 16,
     "metadata": {},
     "output_type": "execute_result"
    }
   ],
   "source": [
    "acc_res = [str(round(v, 2))+\"%\" for v in acc_res_num]\n",
    "acc_res_df_per = pd.DataFrame({\"class\": classes, \"Accuracy, %\": acc_res})\n",
    "acc_res_df_per"
   ]
  }
 ],
 "metadata": {
  "kernelspec": {
   "display_name": "Python 3",
   "language": "python",
   "name": "python3"
  },
  "language_info": {
   "codemirror_mode": {
    "name": "ipython",
    "version": 3
   },
   "file_extension": ".py",
   "mimetype": "text/x-python",
   "name": "python",
   "nbconvert_exporter": "python",
   "pygments_lexer": "ipython3",
   "version": "3.6.11"
  }
 },
 "nbformat": 4,
 "nbformat_minor": 2
}
